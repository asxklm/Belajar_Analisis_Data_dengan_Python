{
  "cells": [
    {
      "cell_type": "markdown",
      "metadata": {
        "id": "_GFWsCsK6aKg"
      },
      "source": [
        "# Proyek Analisis Data: Brazilian E-Commerce Public Dataset\n",
        "- **Nama:** Bagus Cahyo Arrasyid\n",
        "- **Email:** m004d4ky1524@bangkit.academy\n",
        "- **ID Dicoding:** baguscahyoo"
      ]
    },
    {
      "cell_type": "markdown",
      "metadata": {
        "id": "wFViNHmZiFWX"
      },
      "source": [
        "## Menentukan Pertanyaan Bisnis"
      ]
    },
    {
      "cell_type": "markdown",
      "metadata": {
        "id": "9GH3NXh2iLbB"
      },
      "source": [
        "- Produk apa yang paling laris? \n",
        "- Keuntungan terbesar datang dari barang mahal atau barang murah?"
      ]
    },
    {
      "cell_type": "markdown",
      "metadata": {
        "id": "ttA8x_iI51_f"
      },
      "source": [
        "## Import Semua Packages/Library yang Digunakan"
      ]
    },
    {
      "cell_type": "code",
      "execution_count": 1,
      "metadata": {
        "id": "VmvkvMOp58Sa"
      },
      "outputs": [],
      "source": [
        "import numpy as np\n",
        "import pandas as pd\n",
        "import matplotlib.pyplot as plt\n",
        "import urllib\n",
        "import matplotlib.image as mpimg\n",
        "from scipy import stats"
      ]
    },
    {
      "cell_type": "markdown",
      "metadata": {
        "id": "-OgWUAKQ6W56"
      },
      "source": [
        "## Data Wrangling"
      ]
    },
    {
      "cell_type": "markdown",
      "metadata": {
        "id": "cWVhgfnk6bt_"
      },
      "source": [
        "### Gathering Data"
      ]
    },
    {
      "cell_type": "code",
      "execution_count": 2,
      "metadata": {
        "id": "6GQDGAZe6e-8"
      },
      "outputs": [],
      "source": [
        "customers = pd.read_csv(\"./E-Commerce Public Dataset/customers_dataset.csv\")\n",
        "geolocation = pd.read_csv(\"./E-Commerce Public Dataset/geolocation_dataset.csv\")\n",
        "order_items = pd.read_csv(\"./E-Commerce Public Dataset/order_items_dataset.csv\")\n",
        "order_payments = pd.read_csv(\"./E-Commerce Public Dataset/order_payments_dataset.csv\")\n",
        "order_reviews = pd.read_csv(\"./E-Commerce Public Dataset/order_reviews_dataset.csv\")\n",
        "orders = pd.read_csv(\"./E-Commerce Public Dataset/orders_dataset.csv\")\n",
        "product_category = pd.read_csv(\"./E-Commerce Public Dataset/product_category_name_translation.csv\")\n",
        "products = pd.read_csv(\"./E-Commerce Public Dataset/products_dataset.csv\")\n",
        "sellers = pd.read_csv(\"./E-Commerce Public Dataset/sellers_dataset.csv\")\n",
        "\n",
        "data = {'customers': customers, 'location': geolocation, 'items': order_items, 'payments': order_payments, 'reviews': order_reviews,\n",
        "        'orders': orders, 'category': product_category, 'products': products, 'sellers': sellers,}"
      ]
    },
    {
      "cell_type": "markdown",
      "metadata": {
        "id": "QoGUabFJrDok"
      },
      "source": [
        "### Assessing Data"
      ]
    },
    {
      "cell_type": "markdown",
      "metadata": {
        "id": "Va5KOsb2rWZ5"
      },
      "source": [
        "- Melihat info data"
      ]
    },
    {
      "cell_type": "code",
      "execution_count": 3,
      "metadata": {
        "colab": {
          "base_uri": "https://localhost:8080/"
        },
        "id": "DUMT-5uErXZT",
        "outputId": "afc0817b-eeb7-4537-a03e-a7b8e00c3282"
      },
      "outputs": [
        {
          "name": "stdout",
          "output_type": "stream",
          "text": [
            "<class 'pandas.core.frame.DataFrame'>\n",
            "RangeIndex: 99441 entries, 0 to 99440\n",
            "Data columns (total 5 columns):\n",
            " #   Column                    Non-Null Count  Dtype \n",
            "---  ------                    --------------  ----- \n",
            " 0   customer_id               99441 non-null  object\n",
            " 1   customer_unique_id        99441 non-null  object\n",
            " 2   customer_zip_code_prefix  99441 non-null  int64 \n",
            " 3   customer_city             99441 non-null  object\n",
            " 4   customer_state            99441 non-null  object\n",
            "dtypes: int64(1), object(4)\n",
            "memory usage: 3.8+ MB\n",
            "\n",
            " None\n",
            "<class 'pandas.core.frame.DataFrame'>\n",
            "RangeIndex: 1000163 entries, 0 to 1000162\n",
            "Data columns (total 5 columns):\n",
            " #   Column                       Non-Null Count    Dtype  \n",
            "---  ------                       --------------    -----  \n",
            " 0   geolocation_zip_code_prefix  1000163 non-null  int64  \n",
            " 1   geolocation_lat              1000163 non-null  float64\n",
            " 2   geolocation_lng              1000163 non-null  float64\n",
            " 3   geolocation_city             1000163 non-null  object \n",
            " 4   geolocation_state            1000163 non-null  object \n",
            "dtypes: float64(2), int64(1), object(2)\n",
            "memory usage: 38.2+ MB\n",
            "\n",
            " None\n",
            "<class 'pandas.core.frame.DataFrame'>\n",
            "RangeIndex: 112650 entries, 0 to 112649\n",
            "Data columns (total 7 columns):\n",
            " #   Column               Non-Null Count   Dtype  \n",
            "---  ------               --------------   -----  \n",
            " 0   order_id             112650 non-null  object \n",
            " 1   order_item_id        112650 non-null  int64  \n",
            " 2   product_id           112650 non-null  object \n",
            " 3   seller_id            112650 non-null  object \n",
            " 4   shipping_limit_date  112650 non-null  object \n",
            " 5   price                112650 non-null  float64\n",
            " 6   freight_value        112650 non-null  float64\n",
            "dtypes: float64(2), int64(1), object(4)\n",
            "memory usage: 6.0+ MB\n",
            "\n",
            " None\n",
            "<class 'pandas.core.frame.DataFrame'>\n",
            "RangeIndex: 103886 entries, 0 to 103885\n",
            "Data columns (total 5 columns):\n",
            " #   Column                Non-Null Count   Dtype  \n",
            "---  ------                --------------   -----  \n",
            " 0   order_id              103886 non-null  object \n",
            " 1   payment_sequential    103886 non-null  int64  \n",
            " 2   payment_type          103886 non-null  object \n",
            " 3   payment_installments  103886 non-null  int64  \n",
            " 4   payment_value         103886 non-null  float64\n",
            "dtypes: float64(1), int64(2), object(2)\n",
            "memory usage: 4.0+ MB\n",
            "\n",
            " None\n",
            "<class 'pandas.core.frame.DataFrame'>\n",
            "RangeIndex: 99224 entries, 0 to 99223\n",
            "Data columns (total 7 columns):\n",
            " #   Column                   Non-Null Count  Dtype \n",
            "---  ------                   --------------  ----- \n",
            " 0   review_id                99224 non-null  object\n",
            " 1   order_id                 99224 non-null  object\n",
            " 2   review_score             99224 non-null  int64 \n",
            " 3   review_comment_title     11568 non-null  object\n",
            " 4   review_comment_message   40977 non-null  object\n",
            " 5   review_creation_date     99224 non-null  object\n",
            " 6   review_answer_timestamp  99224 non-null  object\n",
            "dtypes: int64(1), object(6)\n",
            "memory usage: 5.3+ MB\n",
            "\n",
            " None\n",
            "<class 'pandas.core.frame.DataFrame'>\n",
            "RangeIndex: 99441 entries, 0 to 99440\n",
            "Data columns (total 8 columns):\n",
            " #   Column                         Non-Null Count  Dtype \n",
            "---  ------                         --------------  ----- \n",
            " 0   order_id                       99441 non-null  object\n",
            " 1   customer_id                    99441 non-null  object\n",
            " 2   order_status                   99441 non-null  object\n",
            " 3   order_purchase_timestamp       99441 non-null  object\n",
            " 4   order_approved_at              99281 non-null  object\n",
            " 5   order_delivered_carrier_date   97658 non-null  object\n",
            " 6   order_delivered_customer_date  96476 non-null  object\n",
            " 7   order_estimated_delivery_date  99441 non-null  object\n",
            "dtypes: object(8)\n",
            "memory usage: 6.1+ MB\n",
            "\n",
            " None\n",
            "<class 'pandas.core.frame.DataFrame'>\n",
            "RangeIndex: 71 entries, 0 to 70\n",
            "Data columns (total 2 columns):\n",
            " #   Column                         Non-Null Count  Dtype \n",
            "---  ------                         --------------  ----- \n",
            " 0   product_category_name          71 non-null     object\n",
            " 1   product_category_name_english  71 non-null     object\n",
            "dtypes: object(2)\n",
            "memory usage: 1.2+ KB\n",
            "\n",
            " None\n",
            "<class 'pandas.core.frame.DataFrame'>\n",
            "RangeIndex: 32951 entries, 0 to 32950\n",
            "Data columns (total 9 columns):\n",
            " #   Column                      Non-Null Count  Dtype  \n",
            "---  ------                      --------------  -----  \n",
            " 0   product_id                  32951 non-null  object \n",
            " 1   product_category_name       32341 non-null  object \n",
            " 2   product_name_lenght         32341 non-null  float64\n",
            " 3   product_description_lenght  32341 non-null  float64\n",
            " 4   product_photos_qty          32341 non-null  float64\n",
            " 5   product_weight_g            32949 non-null  float64\n",
            " 6   product_length_cm           32949 non-null  float64\n",
            " 7   product_height_cm           32949 non-null  float64\n",
            " 8   product_width_cm            32949 non-null  float64\n",
            "dtypes: float64(7), object(2)\n",
            "memory usage: 2.3+ MB\n",
            "\n",
            " None\n",
            "<class 'pandas.core.frame.DataFrame'>\n",
            "RangeIndex: 3095 entries, 0 to 3094\n",
            "Data columns (total 4 columns):\n",
            " #   Column                  Non-Null Count  Dtype \n",
            "---  ------                  --------------  ----- \n",
            " 0   seller_id               3095 non-null   object\n",
            " 1   seller_zip_code_prefix  3095 non-null   int64 \n",
            " 2   seller_city             3095 non-null   object\n",
            " 3   seller_state            3095 non-null   object\n",
            "dtypes: int64(1), object(3)\n",
            "memory usage: 96.8+ KB\n",
            "\n",
            " None\n"
          ]
        }
      ],
      "source": [
        "for df_name, df in data.items():\n",
        "  print('\\n', data[df_name].info())"
      ]
    },
    {
      "cell_type": "markdown",
      "metadata": {},
      "source": [
        "- Missing value"
      ]
    },
    {
      "cell_type": "code",
      "execution_count": 4,
      "metadata": {
        "colab": {
          "base_uri": "https://localhost:8080/"
        },
        "id": "t-dqPVB1yu-q",
        "outputId": "0451da68-6926-4d35-90aa-2461d25fcb81"
      },
      "outputs": [
        {
          "name": "stdout",
          "output_type": "stream",
          "text": [
            "customers \n",
            " customer_id                 0\n",
            "customer_unique_id          0\n",
            "customer_zip_code_prefix    0\n",
            "customer_city               0\n",
            "customer_state              0\n",
            "dtype: int64 \n",
            "\n",
            "location \n",
            " geolocation_zip_code_prefix    0\n",
            "geolocation_lat                0\n",
            "geolocation_lng                0\n",
            "geolocation_city               0\n",
            "geolocation_state              0\n",
            "dtype: int64 \n",
            "\n",
            "items \n",
            " order_id               0\n",
            "order_item_id          0\n",
            "product_id             0\n",
            "seller_id              0\n",
            "shipping_limit_date    0\n",
            "price                  0\n",
            "freight_value          0\n",
            "dtype: int64 \n",
            "\n",
            "payments \n",
            " order_id                0\n",
            "payment_sequential      0\n",
            "payment_type            0\n",
            "payment_installments    0\n",
            "payment_value           0\n",
            "dtype: int64 \n",
            "\n",
            "reviews \n",
            " review_id                      0\n",
            "order_id                       0\n",
            "review_score                   0\n",
            "review_comment_title       87656\n",
            "review_comment_message     58247\n",
            "review_creation_date           0\n",
            "review_answer_timestamp        0\n",
            "dtype: int64 \n",
            "\n",
            "orders \n",
            " order_id                            0\n",
            "customer_id                         0\n",
            "order_status                        0\n",
            "order_purchase_timestamp            0\n",
            "order_approved_at                 160\n",
            "order_delivered_carrier_date     1783\n",
            "order_delivered_customer_date    2965\n",
            "order_estimated_delivery_date       0\n",
            "dtype: int64 \n",
            "\n",
            "category \n",
            " product_category_name            0\n",
            "product_category_name_english    0\n",
            "dtype: int64 \n",
            "\n",
            "products \n",
            " product_id                      0\n",
            "product_category_name         610\n",
            "product_name_lenght           610\n",
            "product_description_lenght    610\n",
            "product_photos_qty            610\n",
            "product_weight_g                2\n",
            "product_length_cm               2\n",
            "product_height_cm               2\n",
            "product_width_cm                2\n",
            "dtype: int64 \n",
            "\n",
            "sellers \n",
            " seller_id                 0\n",
            "seller_zip_code_prefix    0\n",
            "seller_city               0\n",
            "seller_state              0\n",
            "dtype: int64 \n",
            "\n"
          ]
        }
      ],
      "source": [
        "def calculate_null_counts(data):\n",
        "    # Inisialisasi dictionary untuk menyimpan jumlah nilai null untuk setiap DataFrame\n",
        "    null_counts = {}\n",
        "\n",
        "    # Menghitung dan menyimpan jumlah nilai null untuk setiap DataFrame\n",
        "    for df_name, df in data.items():\n",
        "        null_counts[df_name] = df.isna().sum()\n",
        "        print(df_name, '\\n', null_counts[df_name], '\\n')\n",
        "\n",
        "    return null_counts\n",
        "\n",
        "# Memanggil fungsi untuk menghitung nilai null\n",
        "null_counts = calculate_null_counts(data)"
      ]
    },
    {
      "cell_type": "markdown",
      "metadata": {},
      "source": [
        "- Mengubah format timestamp "
      ]
    },
    {
      "cell_type": "code",
      "execution_count": 5,
      "metadata": {
        "id": "hug6tqRy4Zhl"
      },
      "outputs": [],
      "source": [
        "# Fungsi untuk mengkonversi kolom menjadi tipe data datetime\n",
        "def convert_to_datetime(df, columns):\n",
        "    for column in columns:\n",
        "        df[column] = pd.to_datetime(df[column])\n",
        "    return df\n",
        "\n",
        "# Kolom-kolom yang berisi data waktu pada tabel orders\n",
        "datetime_oo = [\"order_purchase_timestamp\", \"order_approved_at\", \"order_delivered_carrier_date\",\n",
        "               \"order_delivered_customer_date\", \"order_estimated_delivery_date\"]\n",
        "data['orders'] = convert_to_datetime(data['orders'], datetime_oo)\n",
        "\n",
        "# Kolom-kolom yang berisi data waktu pada tabel items\n",
        "datetime_oi = [\"shipping_limit_date\"]\n",
        "data['items'] = convert_to_datetime(data['items'], datetime_oi)\n",
        "\n",
        "# Kolom-kolom yang berisi data waktu pada tabel reviews\n",
        "datetime_or = [\"review_creation_date\", \"review_answer_timestamp\"]\n",
        "data['reviews'] = convert_to_datetime(data['reviews'], datetime_or)"
      ]
    },
    {
      "cell_type": "markdown",
      "metadata": {
        "id": "WRI9uEGzuEHh"
      },
      "source": [
        "- Duplikasi"
      ]
    },
    {
      "cell_type": "code",
      "execution_count": 6,
      "metadata": {
        "colab": {
          "base_uri": "https://localhost:8080/",
          "height": 332
        },
        "id": "oncDMmscuHU_",
        "outputId": "2da04511-ccb0-4eb7-f9e4-25e9c11088ab"
      },
      "outputs": [
        {
          "name": "stdout",
          "output_type": "stream",
          "text": [
            "           Jumlah Sampel  Jumlah Duplikat\n",
            "customers          99441                0\n",
            "location         1000163           261831\n",
            "items             112650                0\n",
            "payments          103886                0\n",
            "reviews            99224                0\n",
            "orders             99441                0\n",
            "category              71                0\n",
            "products           32951                0\n",
            "sellers             3095                0\n"
          ]
        }
      ],
      "source": [
        "def calculate_duplicate_counts(data):\n",
        "    # Inisialisasi dictionary untuk menyimpan jumlah duplikat dan total jumlah sampel untuk setiap DataFrame\n",
        "    duplicate_counts = {}\n",
        "    total_sample_counts = {}\n",
        "\n",
        "    # Menghitung dan menyimpan jumlah duplikat dan total jumlah sampel untuk setiap DataFrame\n",
        "    for df_name, df in data.items():\n",
        "        duplicate_counts[df_name] = df.duplicated().sum()\n",
        "        total_sample_counts[df_name] = len(df)  # Menghitung jumlah total sampel\n",
        "\n",
        "    # Membuat DataFrame dari dictionary\n",
        "    duplicate_counts_df = pd.DataFrame.from_dict(duplicate_counts, orient='index', columns=['Jumlah Duplikat'])\n",
        "    total_sample_counts_df = pd.DataFrame.from_dict(total_sample_counts, orient='index', columns=['Jumlah Sampel'])\n",
        "\n",
        "    # Menggabungkan dua DataFrame dengan menggabungkannya secara horizontal\n",
        "    combined_df = pd.concat([total_sample_counts_df, duplicate_counts_df], axis=1)\n",
        "    \n",
        "    return combined_df\n",
        "\n",
        "# Memanggil fungsi untuk menghitung jumlah duplikat dan total jumlah sampel\n",
        "result_df = calculate_duplicate_counts(data)\n",
        "print(result_df)"
      ]
    },
    {
      "cell_type": "markdown",
      "metadata": {
        "id": "YNUapIBs4cV1"
      },
      "source": [
        "### Cleaning Data"
      ]
    },
    {
      "cell_type": "markdown",
      "metadata": {
        "id": "nmKvj9c04kIn"
      },
      "source": [
        "- Data order terdapat order_id yang menghubungkan banyak data lainnya"
      ]
    },
    {
      "cell_type": "code",
      "execution_count": 7,
      "metadata": {
        "colab": {
          "base_uri": "https://localhost:8080/"
        },
        "id": "CN-4akBdMtaS",
        "outputId": "f1959356-52f1-4bfa-a7f6-202f5d38d982"
      },
      "outputs": [
        {
          "name": "stdout",
          "output_type": "stream",
          "text": [
            "delivered    96478\n",
            "Name: order_status, dtype: int64\n"
          ]
        }
      ],
      "source": [
        "def print_delivered_order_status(data):\n",
        "    # Memilih hanya pesanan yang telah benar-benar disampaikan\n",
        "    delivered_orders = data['orders'][data['orders']['order_status'] == 'delivered']\n",
        "\n",
        "    # Mencetak jumlah status pesanan yang telah benar-benar disampaikan\n",
        "    print(delivered_orders['order_status'].value_counts())\n",
        "\n",
        "# Memanggil fungsi untuk mencetak jumlah status pesanan yang telah benar-benar disampaikan\n",
        "print_delivered_order_status(data)"
      ]
    },
    {
      "cell_type": "markdown",
      "metadata": {},
      "source": [
        "- Memanfaatkan status \"delivered\" sebagai acaun"
      ]
    },
    {
      "cell_type": "code",
      "execution_count": 8,
      "metadata": {},
      "outputs": [],
      "source": [
        "def filter_delivered_orders(data):\n",
        "    # Mengambil semua order_id di mana status pesanan adalah 'delivered'\n",
        "    delivered_orders = data['orders']['order_id'][data['orders']['order_status'] == 'delivered'].values\n",
        "\n",
        "    # Memfilter setiap DataFrame lain di mana order_id adalah kunci asing\n",
        "    for key, value in data.items():\n",
        "        if 'order_id' in value.columns:\n",
        "            value = value[value['order_id'].isin(delivered_orders)]\n",
        "\n",
        "    # Mengambil semua order_id di mana tanggal pengiriman pelanggan kosong\n",
        "    null_deliveries = data['orders']['order_id'][data['orders']['order_delivered_customer_date'].isnull()].values\n",
        "\n",
        "    # Memfilter setiap DataFrame lain di mana order_id adalah kunci asing\n",
        "    for key, value in data.items():\n",
        "        if 'order_id' in value.columns:\n",
        "            value = value[~value['order_id'].isin(null_deliveries)]\n",
        "\n",
        "    # Menambahkan kolom baru 'delivered_on_time' ke DataFrame orders\n",
        "    data['orders']['delivered_on_time'] = np.where(data['orders']['order_delivered_customer_date'] < data['orders']['order_estimated_delivery_date'], 'On Time', 'Late')\n",
        "\n",
        "    return data\n",
        "\n",
        "# Memanggil fungsi untuk memfilter data\n",
        "filtered_data = filter_delivered_orders(data)\n"
      ]
    },
    {
      "cell_type": "markdown",
      "metadata": {
        "id": "X8lNjSABBRyh"
      },
      "source": [
        "- Data reviews produk"
      ]
    },
    {
      "cell_type": "code",
      "execution_count": 9,
      "metadata": {
        "id": "9jo5VOZzdQ-O"
      },
      "outputs": [
        {
          "name": "stdout",
          "output_type": "stream",
          "text": [
            "Review cols:  ['review_id' 'order_id' 'review_score' 'review_comment_title'\n",
            " 'review_comment_message' 'review_creation_date' 'review_answer_timestamp']\n"
          ]
        }
      ],
      "source": [
        "def process_review_data(data):\n",
        "    # Menampilkan nama kolom pada DataFrame reviews\n",
        "    print('Review cols: ', data['reviews'].columns.values)\n",
        "\n",
        "    # Menghapus kolom review_comment_title yang memiliki persentase NaN yang tinggi\n",
        "    review_drop_cols = ['review_comment_title']\n",
        "    data['reviews'].drop(review_drop_cols, axis=1, inplace=True)\n",
        "\n",
        "    # Mengganti nilai NaN di kolom 'review_comment_message' dengan 0 dan non-NaN dengan 1\n",
        "    data['reviews']['review_comment_message'] = np.where(data['reviews']['review_comment_message'].isnull(), 0, 1)\n",
        "\n",
        "    return data\n",
        "\n",
        "# Memanggil fungsi untuk memproses data ulasan\n",
        "processed_data = process_review_data(data)\n"
      ]
    },
    {
      "cell_type": "markdown",
      "metadata": {
        "id": "xkp8Zn4QdkGS"
      },
      "source": [
        "- Data order product"
      ]
    },
    {
      "cell_type": "code",
      "execution_count": 11,
      "metadata": {},
      "outputs": [
        {
          "name": "stdout",
          "output_type": "stream",
          "text": [
            "Product cols:  ['product_id' 'product_category_name' 'product_name_lenght'\n",
            " 'product_description_lenght' 'product_photos_qty' 'product_weight_g'\n",
            " 'product_length_cm' 'product_height_cm' 'product_width_cm']\n"
          ]
        }
      ],
      "source": [
        "def process_product_data(data):\n",
        "    \"\"\"\n",
        "    Memproses data produk dengan menghapus kolom yang tidak diperlukan\n",
        "    dan mengganti nilai NaN di beberapa kolom dengan nilai yang tepat.\n",
        "\n",
        "    Args:\n",
        "        data (dict): Dictionary yang berisi DataFrame.\n",
        "\n",
        "    Returns:\n",
        "        dict: Dictionary yang berisi DataFrame yang telah diproses.\n",
        "    \"\"\"\n",
        "    # Menampilkan nama kolom pada DataFrame products\n",
        "    print('Product cols: ', data['products'].columns.values)\n",
        "\n",
        "    # Menghapus kolom yang tidak diperlukan dari DataFrame products\n",
        "    product_drop_cols = ['product_name_lenght',\n",
        "                         'product_description_lenght',\n",
        "                         'product_weight_g',\n",
        "                         'product_length_cm',\n",
        "                         'product_height_cm',\n",
        "                         'product_width_cm']\n",
        "    data['products'].drop(product_drop_cols, axis=1, inplace=True)\n",
        "\n",
        "    # Mengganti nilai NaN di kolom 'product_category_name' dengan 'outro'\n",
        "    data['products']['product_category_name'].fillna(value='outro', inplace=True)\n",
        "\n",
        "    # Mengganti nilai NaN di kolom 'product_photos_qty' dengan 0\n",
        "    data['products']['product_photos_qty'].fillna(value=0, inplace=True)\n",
        "\n",
        "    return data\n",
        "\n",
        "# Memanggil fungsi untuk memproses data produk\n",
        "processed_data = process_product_data(data)\n"
      ]
    },
    {
      "cell_type": "markdown",
      "metadata": {
        "id": "mv9MK1YJFtSy"
      },
      "source": [
        "## Exploratory Data Analysis (EDA)"
      ]
    },
    {
      "cell_type": "markdown",
      "metadata": {
        "id": "93Mey4XLhqSq"
      },
      "source": [
        "- Explore orders"
      ]
    },
    {
      "cell_type": "code",
      "execution_count": 12,
      "metadata": {
        "colab": {
          "base_uri": "https://localhost:8080/"
        },
        "id": "zLHgDSnFhzAp",
        "outputId": "cd64da91-dbb9-4ea8-fa66-fd38da4b1173"
      },
      "outputs": [
        {
          "data": {
            "text/plain": [
              "count       99441\n",
              "unique          2\n",
              "top       On Time\n",
              "freq        88649\n",
              "Name: delivered_on_time, dtype: object"
            ]
          },
          "execution_count": 12,
          "metadata": {},
          "output_type": "execute_result"
        }
      ],
      "source": [
        "data['orders']['delivered_on_time'].describe()"
      ]
    },
    {
      "cell_type": "markdown",
      "metadata": {},
      "source": [
        "- Explore customer"
      ]
    },
    {
      "cell_type": "code",
      "execution_count": 13,
      "metadata": {},
      "outputs": [
        {
          "data": {
            "text/plain": [
              "customer_city\n",
              "sao paulo         15540\n",
              "rio de janeiro     6882\n",
              "belo horizonte     2773\n",
              "brasilia           2131\n",
              "curitiba           1521\n",
              "                  ...  \n",
              "ibiara                1\n",
              "rio espera            1\n",
              "rio dos indios        1\n",
              "rio dos cedros        1\n",
              "lagoao                1\n",
              "Name: customer_id, Length: 4119, dtype: int64"
            ]
          },
          "execution_count": 13,
          "metadata": {},
          "output_type": "execute_result"
        }
      ],
      "source": [
        "data['customers'].groupby(by=\"customer_city\").customer_id.nunique().sort_values(ascending=False)"
      ]
    },
    {
      "cell_type": "code",
      "execution_count": 14,
      "metadata": {},
      "outputs": [
        {
          "data": {
            "text/plain": [
              "customer_state\n",
              "SP    41746\n",
              "RJ    12852\n",
              "MG    11635\n",
              "RS     5466\n",
              "PR     5045\n",
              "SC     3637\n",
              "BA     3380\n",
              "DF     2140\n",
              "ES     2033\n",
              "GO     2020\n",
              "PE     1652\n",
              "CE     1336\n",
              "PA      975\n",
              "MT      907\n",
              "MA      747\n",
              "MS      715\n",
              "PB      536\n",
              "PI      495\n",
              "RN      485\n",
              "AL      413\n",
              "SE      350\n",
              "TO      280\n",
              "RO      253\n",
              "AM      148\n",
              "AC       81\n",
              "AP       68\n",
              "RR       46\n",
              "Name: customer_id, dtype: int64"
            ]
          },
          "execution_count": 14,
          "metadata": {},
          "output_type": "execute_result"
        }
      ],
      "source": [
        "data['customers'].groupby(by=\"customer_state\").customer_id.nunique().sort_values(ascending=False)"
      ]
    },
    {
      "cell_type": "markdown",
      "metadata": {
        "id": "YAaKimvqo2NM"
      },
      "source": [
        "- Explore payments"
      ]
    },
    {
      "cell_type": "code",
      "execution_count": 15,
      "metadata": {
        "colab": {
          "base_uri": "https://localhost:8080/",
          "height": 206
        },
        "id": "aV923XnWujci",
        "outputId": "66f44de7-c53b-4472-b181-9fe94ffc39cc"
      },
      "outputs": [
        {
          "data": {
            "text/html": [
              "<div>\n",
              "<style scoped>\n",
              "    .dataframe tbody tr th:only-of-type {\n",
              "        vertical-align: middle;\n",
              "    }\n",
              "\n",
              "    .dataframe tbody tr th {\n",
              "        vertical-align: top;\n",
              "    }\n",
              "\n",
              "    .dataframe thead th {\n",
              "        text-align: right;\n",
              "    }\n",
              "</style>\n",
              "<table border=\"1\" class=\"dataframe\">\n",
              "  <thead>\n",
              "    <tr style=\"text-align: right;\">\n",
              "      <th></th>\n",
              "      <th>order_id</th>\n",
              "      <th>payment_sequential</th>\n",
              "      <th>payment_type</th>\n",
              "      <th>payment_installments</th>\n",
              "      <th>payment_value</th>\n",
              "    </tr>\n",
              "  </thead>\n",
              "  <tbody>\n",
              "    <tr>\n",
              "      <th>48667</th>\n",
              "      <td>b56383d16b2ecad95ab7737504e59d49</td>\n",
              "      <td>1</td>\n",
              "      <td>credit_card</td>\n",
              "      <td>1</td>\n",
              "      <td>211.86</td>\n",
              "    </tr>\n",
              "    <tr>\n",
              "      <th>5993</th>\n",
              "      <td>128874d639055ad5609b5269defad1c3</td>\n",
              "      <td>1</td>\n",
              "      <td>credit_card</td>\n",
              "      <td>1</td>\n",
              "      <td>103.65</td>\n",
              "    </tr>\n",
              "    <tr>\n",
              "      <th>18232</th>\n",
              "      <td>8e6ea4b72f10b06c7c6ac53f274e636f</td>\n",
              "      <td>1</td>\n",
              "      <td>credit_card</td>\n",
              "      <td>3</td>\n",
              "      <td>33.54</td>\n",
              "    </tr>\n",
              "    <tr>\n",
              "      <th>59695</th>\n",
              "      <td>f63cd97f8f1db2eb266fb3bc2b4a95f3</td>\n",
              "      <td>1</td>\n",
              "      <td>credit_card</td>\n",
              "      <td>2</td>\n",
              "      <td>83.73</td>\n",
              "    </tr>\n",
              "    <tr>\n",
              "      <th>7328</th>\n",
              "      <td>0205c3dd6f4d8e348ee72fffd114fec4</td>\n",
              "      <td>1</td>\n",
              "      <td>credit_card</td>\n",
              "      <td>5</td>\n",
              "      <td>74.67</td>\n",
              "    </tr>\n",
              "  </tbody>\n",
              "</table>\n",
              "</div>"
            ],
            "text/plain": [
              "                               order_id  payment_sequential payment_type  \\\n",
              "48667  b56383d16b2ecad95ab7737504e59d49                   1  credit_card   \n",
              "5993   128874d639055ad5609b5269defad1c3                   1  credit_card   \n",
              "18232  8e6ea4b72f10b06c7c6ac53f274e636f                   1  credit_card   \n",
              "59695  f63cd97f8f1db2eb266fb3bc2b4a95f3                   1  credit_card   \n",
              "7328   0205c3dd6f4d8e348ee72fffd114fec4                   1  credit_card   \n",
              "\n",
              "       payment_installments  payment_value  \n",
              "48667                     1         211.86  \n",
              "5993                      1         103.65  \n",
              "18232                     3          33.54  \n",
              "59695                     2          83.73  \n",
              "7328                      5          74.67  "
            ]
          },
          "execution_count": 15,
          "metadata": {},
          "output_type": "execute_result"
        }
      ],
      "source": [
        "data['payments'].sample(5)"
      ]
    },
    {
      "cell_type": "code",
      "execution_count": 16,
      "metadata": {
        "colab": {
          "base_uri": "https://localhost:8080/"
        },
        "id": "V1XwDe4EuxBV",
        "outputId": "5ea51b18-d0d3-42b9-963e-87a8d6d549f9"
      },
      "outputs": [
        {
          "data": {
            "text/plain": [
              "payment_type\n",
              "credit_card    76505\n",
              "boleto         19784\n",
              "voucher         3866\n",
              "debit_card      1528\n",
              "not_defined        3\n",
              "Name: order_id, dtype: int64"
            ]
          },
          "execution_count": 16,
          "metadata": {},
          "output_type": "execute_result"
        }
      ],
      "source": [
        "data['payments'].groupby(by=\"payment_type\").order_id.nunique().sort_values(ascending=False)"
      ]
    },
    {
      "cell_type": "markdown",
      "metadata": {
        "id": "gaqAo5p9zIx8"
      },
      "source": [
        "- Merge customers & orders"
      ]
    },
    {
      "cell_type": "code",
      "execution_count": 17,
      "metadata": {
        "colab": {
          "base_uri": "https://localhost:8080/",
          "height": 261
        },
        "id": "AG59QmPmvh_q",
        "outputId": "4f18bf32-4006-47fd-83f2-1f2efb228ec0"
      },
      "outputs": [
        {
          "name": "stdout",
          "output_type": "stream",
          "text": [
            "                        customer_id                customer_unique_id  \\\n",
            "0  06b8999e2fba1a1fbc88172c00ba8bc7  861eff4711a542e4b93843c6dd7febb0   \n",
            "1  18955e83d337fd6b2def6b18a428ac77  290c77bc529b7ac935b93aa66c333dc3   \n",
            "2  4e7b3e00288586ebd08712fdd0374a03  060e732b5b29e8181a18229c7b0b2b5e   \n",
            "3  b2b6027bc5c5109e529d4dc6358b12c3  259dac757896d24d7702b9acbbff3f3c   \n",
            "4  4f2d8ab171c80ec8364f7c12e35b23ad  345ecd01c38d18a9036ed96c73b8d066   \n",
            "\n",
            "   customer_zip_code_prefix          customer_city customer_state  \\\n",
            "0                     14409                 franca             SP   \n",
            "1                      9790  sao bernardo do campo             SP   \n",
            "2                      1151              sao paulo             SP   \n",
            "3                      8775        mogi das cruzes             SP   \n",
            "4                     13056               campinas             SP   \n",
            "\n",
            "                           order_id order_status order_purchase_timestamp  \\\n",
            "0  00e7ee1b050b8499577073aeb2a297a1    delivered      2017-05-16 15:05:35   \n",
            "1  29150127e6685892b6eab3eec79f59c7    delivered      2018-01-12 20:48:24   \n",
            "2  b2059ed67ce144a36e2aa97d2c9e9ad2    delivered      2018-05-19 16:07:45   \n",
            "3  951670f92359f4fe4a63112aa7306eba    delivered      2018-03-13 16:06:38   \n",
            "4  6b7d50bd145f6fc7f33cebabd7e49d0f    delivered      2018-07-29 09:51:30   \n",
            "\n",
            "    order_approved_at order_delivered_carrier_date  \\\n",
            "0 2017-05-16 15:22:12          2017-05-23 10:47:57   \n",
            "1 2018-01-12 20:58:32          2018-01-15 17:14:59   \n",
            "2 2018-05-20 16:19:10          2018-06-11 14:31:00   \n",
            "3 2018-03-13 17:29:19          2018-03-27 23:22:42   \n",
            "4 2018-07-29 10:10:09          2018-07-30 15:16:00   \n",
            "\n",
            "  order_delivered_customer_date order_estimated_delivery_date  \\\n",
            "0           2017-05-25 10:35:35                    2017-06-05   \n",
            "1           2018-01-29 12:41:19                    2018-02-06   \n",
            "2           2018-06-14 17:58:51                    2018-06-13   \n",
            "3           2018-03-28 16:04:25                    2018-04-10   \n",
            "4           2018-08-09 20:55:48                    2018-08-15   \n",
            "\n",
            "  delivered_on_time  \n",
            "0           On Time  \n",
            "1           On Time  \n",
            "2              Late  \n",
            "3           On Time  \n",
            "4           On Time  \n"
          ]
        }
      ],
      "source": [
        "def merge_customers_orders(data):\n",
        "    # Menggabungkan DataFrame customers dan orders berdasarkan kolom 'customer_id'\n",
        "    customers_orders_df = pd.merge(\n",
        "        left=data['customers'],\n",
        "        right=data['orders'],\n",
        "        how=\"left\",\n",
        "        left_on=\"customer_id\",\n",
        "        right_on=\"customer_id\"\n",
        "    )\n",
        "    return customers_orders_df\n",
        "\n",
        "# Memanggil fungsi untuk menggabungkan DataFrames customers dan orders\n",
        "customers_orders_df = merge_customers_orders(data)\n",
        "\n",
        "# Menampilkan lima baris pertama dari DataFrame hasil penggabungan\n",
        "print(customers_orders_df.head())\n"
      ]
    },
    {
      "cell_type": "markdown",
      "metadata": {
        "id": "SvTgxKIQv8Es"
      },
      "source": [
        "*   Merge payments & reviews"
      ]
    },
    {
      "cell_type": "code",
      "execution_count": 19,
      "metadata": {
        "colab": {
          "base_uri": "https://localhost:8080/",
          "height": 206
        },
        "id": "9iZCc3rZwfTK",
        "outputId": "c72b613a-bd5d-4b8d-8ba5-be8813e07fb0"
      },
      "outputs": [
        {
          "name": "stdout",
          "output_type": "stream",
          "text": [
            "             order_id payment_value          \n",
            "              nunique           min       max\n",
            "payment_type                                 \n",
            "boleto          19784         11.62   7274.88\n",
            "credit_card     76505          0.01  13664.08\n",
            "debit_card       1528         13.38   4445.50\n",
            "not_defined         3          0.00      0.00\n",
            "voucher          3866          0.00   3184.34\n"
          ]
        }
      ],
      "source": [
        "def merge_payments_reviews(data):\n",
        "    # Menggabungkan DataFrame payments dan reviews berdasarkan kolom 'order_id'\n",
        "    payments_reviews_df = pd.merge(\n",
        "        left=data['payments'],\n",
        "        right=data['reviews'],\n",
        "        how=\"left\",\n",
        "        left_on=\"order_id\",\n",
        "        right_on=\"order_id\"\n",
        "    )\n",
        "    return payments_reviews_df\n",
        "\n",
        "# Memanggil fungsi untuk menggabungkan DataFrames payments dan reviews\n",
        "payments_reviews_df = merge_payments_reviews(data)\n",
        "\n",
        "# Mengurutkan DataFrame berdasarkan 'payment_value' secara menurun\n",
        "payments_reviews_df_sorted = payments_reviews_df.sort_values(by=\"payment_value\", ascending=False)\n",
        "\n",
        "# Mengelompokkan DataFrame berdasarkan 'payment_type' dan menghitung jumlah order, nilai pembayaran minimal, dan maksimal\n",
        "grouped_payments_reviews_df = payments_reviews_df.groupby(by=\"payment_type\").agg({\n",
        "    \"order_id\": \"nunique\",\n",
        "    \"payment_value\":  [\"min\", \"max\"]\n",
        "})\n",
        "\n",
        "# Menampilkan hasil pengelompokan\n",
        "print(grouped_payments_reviews_df)\n"
      ]
    },
    {
      "cell_type": "markdown",
      "metadata": {
        "id": "6V8cdWLlpBjC"
      },
      "source": [
        "*   Merge customers_orders & payments_reviews"
      ]
    },
    {
      "cell_type": "code",
      "execution_count": 20,
      "metadata": {
        "colab": {
          "base_uri": "https://localhost:8080/",
          "height": 290
        },
        "id": "9atq-thJximc",
        "outputId": "8085667a-ca8a-4753-dd28-9cc0bd00c6f4"
      },
      "outputs": [
        {
          "name": "stdout",
          "output_type": "stream",
          "text": [
            "                        customer_id                customer_unique_id  \\\n",
            "0  06b8999e2fba1a1fbc88172c00ba8bc7  861eff4711a542e4b93843c6dd7febb0   \n",
            "1  18955e83d337fd6b2def6b18a428ac77  290c77bc529b7ac935b93aa66c333dc3   \n",
            "2  4e7b3e00288586ebd08712fdd0374a03  060e732b5b29e8181a18229c7b0b2b5e   \n",
            "3  b2b6027bc5c5109e529d4dc6358b12c3  259dac757896d24d7702b9acbbff3f3c   \n",
            "4  4f2d8ab171c80ec8364f7c12e35b23ad  345ecd01c38d18a9036ed96c73b8d066   \n",
            "\n",
            "   customer_zip_code_prefix          customer_city customer_state  \\\n",
            "0                     14409                 franca             SP   \n",
            "1                      9790  sao bernardo do campo             SP   \n",
            "2                      1151              sao paulo             SP   \n",
            "3                      8775        mogi das cruzes             SP   \n",
            "4                     13056               campinas             SP   \n",
            "\n",
            "                           order_id order_status order_purchase_timestamp  \\\n",
            "0  00e7ee1b050b8499577073aeb2a297a1    delivered      2017-05-16 15:05:35   \n",
            "1  29150127e6685892b6eab3eec79f59c7    delivered      2018-01-12 20:48:24   \n",
            "2  b2059ed67ce144a36e2aa97d2c9e9ad2    delivered      2018-05-19 16:07:45   \n",
            "3  951670f92359f4fe4a63112aa7306eba    delivered      2018-03-13 16:06:38   \n",
            "4  6b7d50bd145f6fc7f33cebabd7e49d0f    delivered      2018-07-29 09:51:30   \n",
            "\n",
            "    order_approved_at order_delivered_carrier_date  ... delivered_on_time  \\\n",
            "0 2017-05-16 15:22:12          2017-05-23 10:47:57  ...           On Time   \n",
            "1 2018-01-12 20:58:32          2018-01-15 17:14:59  ...           On Time   \n",
            "2 2018-05-20 16:19:10          2018-06-11 14:31:00  ...              Late   \n",
            "3 2018-03-13 17:29:19          2018-03-27 23:22:42  ...           On Time   \n",
            "4 2018-07-29 10:10:09          2018-07-30 15:16:00  ...           On Time   \n",
            "\n",
            "  payment_sequential payment_type  payment_installments payment_value  \\\n",
            "0                1.0  credit_card                   2.0        146.87   \n",
            "1                1.0  credit_card                   8.0        335.48   \n",
            "2                1.0  credit_card                   7.0        157.73   \n",
            "3                1.0  credit_card                   1.0        173.30   \n",
            "4                1.0  credit_card                   8.0        252.25   \n",
            "\n",
            "                          review_id  review_score review_comment_message  \\\n",
            "0  88b8b52d46df026a9d1ad2136a59b30b           4.0                    0.0   \n",
            "1  02fc48a9efa3e3d0f1a8ea26507eeec3           5.0                    0.0   \n",
            "2  5ad6695d76ee186dc473c42706984d87           5.0                    0.0   \n",
            "3  059a801bb31f6aab2266e672cab87bc5           5.0                    0.0   \n",
            "4  8490879d58d6c5d7773f2739a03f089a           5.0                    1.0   \n",
            "\n",
            "   review_creation_date  review_answer_timestamp  \n",
            "0            2017-05-26      2017-05-30 22:34:40  \n",
            "1            2018-01-30      2018-02-10 22:43:29  \n",
            "2            2018-06-15      2018-06-15 12:10:59  \n",
            "3            2018-03-29      2018-04-02 18:36:47  \n",
            "4            2018-08-10      2018-08-17 01:59:52  \n",
            "\n",
            "[5 rows x 22 columns]\n"
          ]
        }
      ],
      "source": [
        "def merge_customers_data(customers_orders_df, payments_reviews_df):\n",
        "     # Menggabungkan DataFrame customers_orders_df dengan DataFrame payments_reviews_df berdasarkan kolom 'order_id'\n",
        "    customers_df = pd.merge(\n",
        "        left=customers_orders_df,\n",
        "        right=payments_reviews_df,\n",
        "        how=\"left\",\n",
        "        left_on=\"order_id\",\n",
        "        right_on=\"order_id\"\n",
        "    )\n",
        "    return customers_df\n",
        "\n",
        "# Memanggil fungsi untuk menggabungkan DataFrames customers_orders_df dan payments_reviews_df\n",
        "customers_df = merge_customers_data(customers_orders_df, payments_reviews_df)\n",
        "\n",
        "# Menampilkan lima baris pertama dari DataFrame hasil penggabungan\n",
        "print(customers_df.head())\n"
      ]
    },
    {
      "cell_type": "markdown",
      "metadata": {
        "id": "j73hyE-Szvq3"
      },
      "source": [
        "*   Merge items & sellers"
      ]
    },
    {
      "cell_type": "code",
      "execution_count": 23,
      "metadata": {
        "colab": {
          "base_uri": "https://localhost:8080/",
          "height": 206
        },
        "id": "TL6asC7_z5Qd",
        "outputId": "a78a2b46-16e2-49de-9d27-f9251ff9f780"
      },
      "outputs": [
        {
          "name": "stdout",
          "output_type": "stream",
          "text": [
            "                           order_id  order_item_id  \\\n",
            "0  00010242fe8c5a6d1ba2dd792cb16214              1   \n",
            "1  00018f77f2f0320c557190d7a144bdd3              1   \n",
            "2  000229ec398224ef6ca0657da4fc703e              1   \n",
            "3  00024acbcdf0a6daa1e931b038114c75              1   \n",
            "4  00042b26cf59d7ce69dfabb4e55b4fd9              1   \n",
            "\n",
            "                         product_id                         seller_id  \\\n",
            "0  4244733e06e7ecb4970a6e2683c13e61  48436dade18ac8b2bce089ec2a041202   \n",
            "1  e5f2d52b802189ee658865ca93d83a8f  dd7ddc04e1b6c2c614352b383efe2d36   \n",
            "2  c777355d18b72b67abbeef9df44fd0fd  5b51032eddd242adc84c38acab88f23d   \n",
            "3  7634da152a4610f1595efa32f14722fc  9d7a1d34a5052409006425275ba1c2b4   \n",
            "4  ac6c3623068f30de03045865e4e10089  df560393f3a51e74553ab94004ba5c87   \n",
            "\n",
            "  shipping_limit_date   price  freight_value  seller_zip_code_prefix  \\\n",
            "0 2017-09-19 09:45:35   58.90          13.29                   27277   \n",
            "1 2017-05-03 11:05:13  239.90          19.93                    3471   \n",
            "2 2018-01-18 14:48:30  199.00          17.87                   37564   \n",
            "3 2018-08-15 10:10:18   12.99          12.79                   14403   \n",
            "4 2017-02-13 13:57:51  199.90          18.14                   87900   \n",
            "\n",
            "     seller_city seller_state  \n",
            "0  volta redonda           SP  \n",
            "1      sao paulo           SP  \n",
            "2  borda da mata           MG  \n",
            "3         franca           SP  \n",
            "4         loanda           PR  \n"
          ]
        }
      ],
      "source": [
        "def merge_item_seller_data(data):\n",
        "    # Menggabungkan DataFrame items dengan DataFrame sellers berdasarkan kolom 'seller_id'\n",
        "    item_seller_df = pd.merge(\n",
        "        left=data['items'],\n",
        "        right=data['sellers'],\n",
        "        how=\"left\",\n",
        "        left_on=\"seller_id\",\n",
        "        right_on=\"seller_id\"\n",
        "    )\n",
        "    return item_seller_df\n",
        "\n",
        "# Memanggil fungsi untuk menggabungkan DataFrames items dan sellers\n",
        "item_seller_df = merge_item_seller_data(data)\n",
        "\n",
        "# Menampilkan lima baris pertama dari DataFrame hasil penggabungan\n",
        "print(item_seller_df.head())\n"
      ]
    },
    {
      "cell_type": "code",
      "execution_count": 24,
      "metadata": {
        "colab": {
          "base_uri": "https://localhost:8080/"
        },
        "id": "Z-enaMu_0GEF",
        "outputId": "9d006f96-cca4-47ad-c515-8ba6e78fa471"
      },
      "outputs": [
        {
          "data": {
            "text/plain": [
              "seller_city\n",
              "sao paulo         694\n",
              "curitiba          127\n",
              "rio de janeiro     96\n",
              "belo horizonte     68\n",
              "ribeirao preto     52\n",
              "guarulhos          50\n",
              "ibitinga           49\n",
              "santo andre        45\n",
              "campinas           41\n",
              "maringa            40\n",
              "Name: seller_id, dtype: int64"
            ]
          },
          "execution_count": 24,
          "metadata": {},
          "output_type": "execute_result"
        }
      ],
      "source": [
        "item_seller_df.groupby(by=\"seller_city\").seller_id.nunique().sort_values(ascending=False).head(10)"
      ]
    },
    {
      "cell_type": "code",
      "execution_count": 25,
      "metadata": {
        "colab": {
          "base_uri": "https://localhost:8080/"
        },
        "id": "TWukdezQ0KZE",
        "outputId": "d5c38400-2db7-42a9-ef6e-e79b0a2070db"
      },
      "outputs": [
        {
          "data": {
            "text/plain": [
              "seller_state\n",
              "SP    1849\n",
              "PR     349\n",
              "MG     244\n",
              "SC     190\n",
              "RJ     171\n",
              "RS     129\n",
              "GO      40\n",
              "DF      30\n",
              "ES      23\n",
              "BA      19\n",
              "Name: seller_id, dtype: int64"
            ]
          },
          "execution_count": 25,
          "metadata": {},
          "output_type": "execute_result"
        }
      ],
      "source": [
        "item_seller_df.groupby(by=\"seller_state\").seller_id.nunique().sort_values(ascending=False).head(10)"
      ]
    },
    {
      "cell_type": "markdown",
      "metadata": {
        "id": "-kEB2yBi1y25"
      },
      "source": [
        "*   Merge products & category"
      ]
    },
    {
      "cell_type": "code",
      "execution_count": 26,
      "metadata": {
        "colab": {
          "base_uri": "https://localhost:8080/",
          "height": 206
        },
        "id": "-j2-V-eY17Ls",
        "outputId": "3289971f-ccd8-4f52-b353-791d287c94c2"
      },
      "outputs": [
        {
          "name": "stdout",
          "output_type": "stream",
          "text": [
            "                         product_id  product_category_name  \\\n",
            "0  1e9e8ef04dbcff4541ed26657ea517e5             perfumaria   \n",
            "1  3aa071139cb16b67ca9e5dea641aaa2f                  artes   \n",
            "2  96bd76ec8810374ed1b65e291975717f          esporte_lazer   \n",
            "3  cef67bcfe19066a932b7673e239eb23d                  bebes   \n",
            "4  9dc1a7de274444849c219cff195d0b71  utilidades_domesticas   \n",
            "\n",
            "   product_photos_qty product_category_name_english  \n",
            "0                 1.0                     perfumery  \n",
            "1                 1.0                           art  \n",
            "2                 1.0                sports_leisure  \n",
            "3                 1.0                          baby  \n",
            "4                 4.0                    housewares  \n"
          ]
        }
      ],
      "source": [
        "def merge_product_category_data(data):\n",
        "      # Menggabungkan DataFrame products dengan DataFrame category berdasarkan kolom 'product_category_name'\n",
        "    product_df = pd.merge(\n",
        "        left=data['products'],\n",
        "        right=data['category'],\n",
        "        how=\"left\",\n",
        "        left_on=\"product_category_name\",\n",
        "        right_on=\"product_category_name\"\n",
        "    )\n",
        "    return product_df\n",
        "\n",
        "# Memanggil fungsi untuk menggabungkan DataFrames products dan category\n",
        "product_df = merge_product_category_data(data)\n",
        "\n",
        "# Menampilkan lima baris pertama dari DataFrame hasil penggabungan\n",
        "print(product_df.head())\n"
      ]
    },
    {
      "cell_type": "code",
      "execution_count": 27,
      "metadata": {
        "colab": {
          "base_uri": "https://localhost:8080/"
        },
        "id": "VhSgM1BF2Lmd",
        "outputId": "2fc12894-c13d-4afe-a9bc-be66427aa2f5"
      },
      "outputs": [
        {
          "data": {
            "text/plain": [
              "product_category_name\n",
              "cama_mesa_banho           3029\n",
              "esporte_lazer             2867\n",
              "moveis_decoracao          2657\n",
              "beleza_saude              2444\n",
              "utilidades_domesticas     2335\n",
              "automotivo                1900\n",
              "informatica_acessorios    1639\n",
              "brinquedos                1411\n",
              "relogios_presentes        1329\n",
              "telefonia                 1134\n",
              "Name: product_id, dtype: int64"
            ]
          },
          "execution_count": 27,
          "metadata": {},
          "output_type": "execute_result"
        }
      ],
      "source": [
        "product_df.groupby(by=\"product_category_name\").product_id.nunique().sort_values(ascending=False).head(10)"
      ]
    },
    {
      "cell_type": "code",
      "execution_count": 28,
      "metadata": {
        "colab": {
          "base_uri": "https://localhost:8080/"
        },
        "id": "E-vQPHHt2Nzc",
        "outputId": "e230090d-9ab2-482f-be9f-9b1e217324a3"
      },
      "outputs": [
        {
          "data": {
            "text/plain": [
              "product_category_name_english\n",
              "bed_bath_table               3029\n",
              "sports_leisure               2867\n",
              "furniture_decor              2657\n",
              "health_beauty                2444\n",
              "housewares                   2335\n",
              "                             ... \n",
              "tablets_printing_image          9\n",
              "home_comfort_2                  5\n",
              "fashion_childrens_clothes       5\n",
              "security_and_services           2\n",
              "cds_dvds_musicals               1\n",
              "Name: product_id, Length: 71, dtype: int64"
            ]
          },
          "execution_count": 28,
          "metadata": {},
          "output_type": "execute_result"
        }
      ],
      "source": [
        "product_df.groupby(by=\"product_category_name_english\").product_id.nunique().sort_values(ascending=False).head(10)"
      ]
    },
    {
      "cell_type": "markdown",
      "metadata": {
        "id": "SdpcieV42PE8"
      },
      "source": [
        "- Merge item_seller_df & product_df"
      ]
    },
    {
      "cell_type": "code",
      "execution_count": 29,
      "metadata": {
        "colab": {
          "base_uri": "https://localhost:8080/",
          "height": 226
        },
        "id": "CJf4iWQt2V69",
        "outputId": "c5c7bbc8-b242-41ca-ccdf-763c9fc23d68"
      },
      "outputs": [
        {
          "name": "stdout",
          "output_type": "stream",
          "text": [
            "                         product_id  product_category_name  \\\n",
            "0  1e9e8ef04dbcff4541ed26657ea517e5             perfumaria   \n",
            "1  3aa071139cb16b67ca9e5dea641aaa2f                  artes   \n",
            "2  96bd76ec8810374ed1b65e291975717f          esporte_lazer   \n",
            "3  cef67bcfe19066a932b7673e239eb23d                  bebes   \n",
            "4  9dc1a7de274444849c219cff195d0b71  utilidades_domesticas   \n",
            "\n",
            "   product_photos_qty product_category_name_english  \\\n",
            "0                 1.0                     perfumery   \n",
            "1                 1.0                           art   \n",
            "2                 1.0                sports_leisure   \n",
            "3                 1.0                          baby   \n",
            "4                 4.0                    housewares   \n",
            "\n",
            "                           order_id  order_item_id  \\\n",
            "0  e17e4f88e31525f7deef66779844ddce              1   \n",
            "1  5236307716393b7114b53ee991f36956              1   \n",
            "2  01f66e58769f84129811d43eefd187fb              1   \n",
            "3  143d00a4f2dde4e0364ee1821577adb3              1   \n",
            "4  86cafb8794cb99a9b1b77fc8e48fbbbb              1   \n",
            "\n",
            "                          seller_id shipping_limit_date   price  \\\n",
            "0  5670f4db5b62c43d542e1b2d56b0cf7c 2018-04-30 17:33:54   10.91   \n",
            "1  b561927807645834b59ef0d16ba55a24 2018-02-06 19:11:15  248.00   \n",
            "2  7b07b3c7487f0ea825fc6df75abd658b 2018-07-11 21:30:20   79.80   \n",
            "3  c510bc1718f0f2961eaa42a23330681a 2018-08-07 09:10:13  112.30   \n",
            "4  0be8ff43f22e456b4e0371b2245e4d01 2018-04-17 01:30:23   37.90   \n",
            "\n",
            "   freight_value  seller_zip_code_prefix seller_city seller_state  \n",
            "0           7.39                    3694   sao paulo           SP  \n",
            "1          17.99                    2955   sao paulo           SP  \n",
            "2           7.82                    2016   sao paulo           SP  \n",
            "3           9.54                   13330  indaiatuba           SP  \n",
            "4           8.29                    4461   sao paulo           SP  \n"
          ]
        }
      ],
      "source": [
        "def merge_sellers_data(product_df, item_seller_df):\n",
        "     # Menggabungkan DataFrame product_df dengan DataFrame item_seller_df berdasarkan kolom 'product_id'\n",
        "    sellers_df = pd.merge(\n",
        "        left=product_df,\n",
        "        right=item_seller_df,\n",
        "        how=\"left\",\n",
        "        left_on=\"product_id\",\n",
        "        right_on=\"product_id\"\n",
        "    )\n",
        "    return sellers_df\n",
        "\n",
        "# Memanggil fungsi untuk menggabungkan DataFrames product_df dan item_seller_df\n",
        "sellers_df = merge_sellers_data(product_df, item_seller_df)\n",
        "\n",
        "# Menampilkan lima baris pertama dari DataFrame hasil penggabungan\n",
        "print(sellers_df.head())\n"
      ]
    },
    {
      "cell_type": "code",
      "execution_count": 30,
      "metadata": {
        "colab": {
          "base_uri": "https://localhost:8080/",
          "height": 444
        },
        "id": "FeGboirt2av0",
        "outputId": "a7b32617-5fad-4894-f24e-da5f67aaa964"
      },
      "outputs": [
        {
          "data": {
            "text/html": [
              "<div>\n",
              "<style scoped>\n",
              "    .dataframe tbody tr th:only-of-type {\n",
              "        vertical-align: middle;\n",
              "    }\n",
              "\n",
              "    .dataframe tbody tr th {\n",
              "        vertical-align: top;\n",
              "    }\n",
              "\n",
              "    .dataframe thead th {\n",
              "        text-align: right;\n",
              "    }\n",
              "</style>\n",
              "<table border=\"1\" class=\"dataframe\">\n",
              "  <thead>\n",
              "    <tr style=\"text-align: right;\">\n",
              "      <th></th>\n",
              "      <th>product_id</th>\n",
              "      <th>product_category_name</th>\n",
              "      <th>product_photos_qty</th>\n",
              "      <th>product_category_name_english</th>\n",
              "      <th>order_id</th>\n",
              "      <th>order_item_id</th>\n",
              "      <th>seller_id</th>\n",
              "      <th>shipping_limit_date</th>\n",
              "      <th>price</th>\n",
              "      <th>freight_value</th>\n",
              "      <th>seller_zip_code_prefix</th>\n",
              "      <th>seller_city</th>\n",
              "      <th>seller_state</th>\n",
              "    </tr>\n",
              "  </thead>\n",
              "  <tbody>\n",
              "    <tr>\n",
              "      <th>20528</th>\n",
              "      <td>489ae2aa008f021502940f251d4cce7f</td>\n",
              "      <td>utilidades_domesticas</td>\n",
              "      <td>2.0</td>\n",
              "      <td>housewares</td>\n",
              "      <td>0812eb902a67711a1cb742b3cdaa65ae</td>\n",
              "      <td>1</td>\n",
              "      <td>e3b4998c7a498169dc7bce44e6bb6277</td>\n",
              "      <td>2017-02-16 20:37:36</td>\n",
              "      <td>6735.00</td>\n",
              "      <td>194.31</td>\n",
              "      <td>3635</td>\n",
              "      <td>sao paulo</td>\n",
              "      <td>SP</td>\n",
              "    </tr>\n",
              "    <tr>\n",
              "      <th>73922</th>\n",
              "      <td>69c590f7ffc7bf8db97190b6cb6ed62e</td>\n",
              "      <td>pcs</td>\n",
              "      <td>4.0</td>\n",
              "      <td>computers</td>\n",
              "      <td>fefacc66af859508bf1a7934eab1e97f</td>\n",
              "      <td>1</td>\n",
              "      <td>80ceebb4ee9b31afb6c6a916a574a1e2</td>\n",
              "      <td>2018-08-02 04:05:13</td>\n",
              "      <td>6729.00</td>\n",
              "      <td>193.21</td>\n",
              "      <td>86026</td>\n",
              "      <td>londrina</td>\n",
              "      <td>PR</td>\n",
              "    </tr>\n",
              "    <tr>\n",
              "      <th>49503</th>\n",
              "      <td>1bdf5e6731585cf01aa8169c7028d6ad</td>\n",
              "      <td>artes</td>\n",
              "      <td>2.0</td>\n",
              "      <td>art</td>\n",
              "      <td>f5136e38d1a14a4dbd87dff67da82701</td>\n",
              "      <td>1</td>\n",
              "      <td>ee27a8f15b1dded4d213a468ba4eb391</td>\n",
              "      <td>2017-06-15 02:45:17</td>\n",
              "      <td>6499.00</td>\n",
              "      <td>227.66</td>\n",
              "      <td>74210</td>\n",
              "      <td>goiania</td>\n",
              "      <td>GO</td>\n",
              "    </tr>\n",
              "    <tr>\n",
              "      <th>71835</th>\n",
              "      <td>a6492cc69376c469ab6f61d8f44de961</td>\n",
              "      <td>eletroportateis</td>\n",
              "      <td>2.0</td>\n",
              "      <td>small_appliances</td>\n",
              "      <td>a96610ab360d42a2e5335a3998b4718a</td>\n",
              "      <td>1</td>\n",
              "      <td>59417c56835dd8e2e72f91f809cd4092</td>\n",
              "      <td>2017-04-18 13:25:18</td>\n",
              "      <td>4799.00</td>\n",
              "      <td>151.34</td>\n",
              "      <td>13480</td>\n",
              "      <td>limeira</td>\n",
              "      <td>SP</td>\n",
              "    </tr>\n",
              "    <tr>\n",
              "      <th>32232</th>\n",
              "      <td>c3ed642d592594bb648ff4a04cee2747</td>\n",
              "      <td>eletroportateis</td>\n",
              "      <td>2.0</td>\n",
              "      <td>small_appliances</td>\n",
              "      <td>199af31afc78c699f0dbf71fb178d4d4</td>\n",
              "      <td>1</td>\n",
              "      <td>59417c56835dd8e2e72f91f809cd4092</td>\n",
              "      <td>2017-05-09 15:50:15</td>\n",
              "      <td>4690.00</td>\n",
              "      <td>74.34</td>\n",
              "      <td>13480</td>\n",
              "      <td>limeira</td>\n",
              "      <td>SP</td>\n",
              "    </tr>\n",
              "    <tr>\n",
              "      <th>...</th>\n",
              "      <td>...</td>\n",
              "      <td>...</td>\n",
              "      <td>...</td>\n",
              "      <td>...</td>\n",
              "      <td>...</td>\n",
              "      <td>...</td>\n",
              "      <td>...</td>\n",
              "      <td>...</td>\n",
              "      <td>...</td>\n",
              "      <td>...</td>\n",
              "      <td>...</td>\n",
              "      <td>...</td>\n",
              "      <td>...</td>\n",
              "    </tr>\n",
              "    <tr>\n",
              "      <th>55911</th>\n",
              "      <td>05b515fdc76e888aada3c6d66c201dff</td>\n",
              "      <td>beleza_saude</td>\n",
              "      <td>3.0</td>\n",
              "      <td>health_beauty</td>\n",
              "      <td>8272b63d03f5f79c56e9e4120aec44ef</td>\n",
              "      <td>11</td>\n",
              "      <td>2709af9587499e95e803a6498a5a56e9</td>\n",
              "      <td>2017-07-21 18:25:23</td>\n",
              "      <td>1.20</td>\n",
              "      <td>7.89</td>\n",
              "      <td>3813</td>\n",
              "      <td>sao paulo</td>\n",
              "      <td>SP</td>\n",
              "    </tr>\n",
              "    <tr>\n",
              "      <th>55903</th>\n",
              "      <td>05b515fdc76e888aada3c6d66c201dff</td>\n",
              "      <td>beleza_saude</td>\n",
              "      <td>3.0</td>\n",
              "      <td>health_beauty</td>\n",
              "      <td>8272b63d03f5f79c56e9e4120aec44ef</td>\n",
              "      <td>3</td>\n",
              "      <td>2709af9587499e95e803a6498a5a56e9</td>\n",
              "      <td>2017-07-21 18:25:23</td>\n",
              "      <td>1.20</td>\n",
              "      <td>7.89</td>\n",
              "      <td>3813</td>\n",
              "      <td>sao paulo</td>\n",
              "      <td>SP</td>\n",
              "    </tr>\n",
              "    <tr>\n",
              "      <th>29610</th>\n",
              "      <td>8a3254bee785a526d548a81a9bc3c9be</td>\n",
              "      <td>construcao_ferramentas_construcao</td>\n",
              "      <td>5.0</td>\n",
              "      <td>construction_tools_construction</td>\n",
              "      <td>c5bdd8ef3c0ec420232e668302179113</td>\n",
              "      <td>2</td>\n",
              "      <td>96804ea39d96eb908e7c3afdb671bb9e</td>\n",
              "      <td>2018-05-07 02:55:22</td>\n",
              "      <td>0.85</td>\n",
              "      <td>22.30</td>\n",
              "      <td>38950</td>\n",
              "      <td>ibia</td>\n",
              "      <td>MG</td>\n",
              "    </tr>\n",
              "    <tr>\n",
              "      <th>29608</th>\n",
              "      <td>8a3254bee785a526d548a81a9bc3c9be</td>\n",
              "      <td>construcao_ferramentas_construcao</td>\n",
              "      <td>5.0</td>\n",
              "      <td>construction_tools_construction</td>\n",
              "      <td>3ee6513ae7ea23bdfab5b9ab60bffcb5</td>\n",
              "      <td>1</td>\n",
              "      <td>96804ea39d96eb908e7c3afdb671bb9e</td>\n",
              "      <td>2018-05-04 03:55:26</td>\n",
              "      <td>0.85</td>\n",
              "      <td>18.23</td>\n",
              "      <td>38950</td>\n",
              "      <td>ibia</td>\n",
              "      <td>MG</td>\n",
              "    </tr>\n",
              "    <tr>\n",
              "      <th>29609</th>\n",
              "      <td>8a3254bee785a526d548a81a9bc3c9be</td>\n",
              "      <td>construcao_ferramentas_construcao</td>\n",
              "      <td>5.0</td>\n",
              "      <td>construction_tools_construction</td>\n",
              "      <td>6e864b3f0ec71031117ad4cf46b7f2a1</td>\n",
              "      <td>1</td>\n",
              "      <td>96804ea39d96eb908e7c3afdb671bb9e</td>\n",
              "      <td>2018-05-02 20:30:34</td>\n",
              "      <td>0.85</td>\n",
              "      <td>18.23</td>\n",
              "      <td>38950</td>\n",
              "      <td>ibia</td>\n",
              "      <td>MG</td>\n",
              "    </tr>\n",
              "  </tbody>\n",
              "</table>\n",
              "<p>112650 rows × 13 columns</p>\n",
              "</div>"
            ],
            "text/plain": [
              "                             product_id              product_category_name  \\\n",
              "20528  489ae2aa008f021502940f251d4cce7f              utilidades_domesticas   \n",
              "73922  69c590f7ffc7bf8db97190b6cb6ed62e                                pcs   \n",
              "49503  1bdf5e6731585cf01aa8169c7028d6ad                              artes   \n",
              "71835  a6492cc69376c469ab6f61d8f44de961                    eletroportateis   \n",
              "32232  c3ed642d592594bb648ff4a04cee2747                    eletroportateis   \n",
              "...                                 ...                                ...   \n",
              "55911  05b515fdc76e888aada3c6d66c201dff                       beleza_saude   \n",
              "55903  05b515fdc76e888aada3c6d66c201dff                       beleza_saude   \n",
              "29610  8a3254bee785a526d548a81a9bc3c9be  construcao_ferramentas_construcao   \n",
              "29608  8a3254bee785a526d548a81a9bc3c9be  construcao_ferramentas_construcao   \n",
              "29609  8a3254bee785a526d548a81a9bc3c9be  construcao_ferramentas_construcao   \n",
              "\n",
              "       product_photos_qty    product_category_name_english  \\\n",
              "20528                 2.0                       housewares   \n",
              "73922                 4.0                        computers   \n",
              "49503                 2.0                              art   \n",
              "71835                 2.0                 small_appliances   \n",
              "32232                 2.0                 small_appliances   \n",
              "...                   ...                              ...   \n",
              "55911                 3.0                    health_beauty   \n",
              "55903                 3.0                    health_beauty   \n",
              "29610                 5.0  construction_tools_construction   \n",
              "29608                 5.0  construction_tools_construction   \n",
              "29609                 5.0  construction_tools_construction   \n",
              "\n",
              "                               order_id  order_item_id  \\\n",
              "20528  0812eb902a67711a1cb742b3cdaa65ae              1   \n",
              "73922  fefacc66af859508bf1a7934eab1e97f              1   \n",
              "49503  f5136e38d1a14a4dbd87dff67da82701              1   \n",
              "71835  a96610ab360d42a2e5335a3998b4718a              1   \n",
              "32232  199af31afc78c699f0dbf71fb178d4d4              1   \n",
              "...                                 ...            ...   \n",
              "55911  8272b63d03f5f79c56e9e4120aec44ef             11   \n",
              "55903  8272b63d03f5f79c56e9e4120aec44ef              3   \n",
              "29610  c5bdd8ef3c0ec420232e668302179113              2   \n",
              "29608  3ee6513ae7ea23bdfab5b9ab60bffcb5              1   \n",
              "29609  6e864b3f0ec71031117ad4cf46b7f2a1              1   \n",
              "\n",
              "                              seller_id shipping_limit_date    price  \\\n",
              "20528  e3b4998c7a498169dc7bce44e6bb6277 2017-02-16 20:37:36  6735.00   \n",
              "73922  80ceebb4ee9b31afb6c6a916a574a1e2 2018-08-02 04:05:13  6729.00   \n",
              "49503  ee27a8f15b1dded4d213a468ba4eb391 2017-06-15 02:45:17  6499.00   \n",
              "71835  59417c56835dd8e2e72f91f809cd4092 2017-04-18 13:25:18  4799.00   \n",
              "32232  59417c56835dd8e2e72f91f809cd4092 2017-05-09 15:50:15  4690.00   \n",
              "...                                 ...                 ...      ...   \n",
              "55911  2709af9587499e95e803a6498a5a56e9 2017-07-21 18:25:23     1.20   \n",
              "55903  2709af9587499e95e803a6498a5a56e9 2017-07-21 18:25:23     1.20   \n",
              "29610  96804ea39d96eb908e7c3afdb671bb9e 2018-05-07 02:55:22     0.85   \n",
              "29608  96804ea39d96eb908e7c3afdb671bb9e 2018-05-04 03:55:26     0.85   \n",
              "29609  96804ea39d96eb908e7c3afdb671bb9e 2018-05-02 20:30:34     0.85   \n",
              "\n",
              "       freight_value  seller_zip_code_prefix seller_city seller_state  \n",
              "20528         194.31                    3635   sao paulo           SP  \n",
              "73922         193.21                   86026    londrina           PR  \n",
              "49503         227.66                   74210     goiania           GO  \n",
              "71835         151.34                   13480     limeira           SP  \n",
              "32232          74.34                   13480     limeira           SP  \n",
              "...              ...                     ...         ...          ...  \n",
              "55911           7.89                    3813   sao paulo           SP  \n",
              "55903           7.89                    3813   sao paulo           SP  \n",
              "29610          22.30                   38950        ibia           MG  \n",
              "29608          18.23                   38950        ibia           MG  \n",
              "29609          18.23                   38950        ibia           MG  \n",
              "\n",
              "[112650 rows x 13 columns]"
            ]
          },
          "execution_count": 30,
          "metadata": {},
          "output_type": "execute_result"
        }
      ],
      "source": [
        "sellers_df.sort_values(by=\"price\", ascending=False)"
      ]
    },
    {
      "cell_type": "code",
      "execution_count": 31,
      "metadata": {
        "colab": {
          "base_uri": "https://localhost:8080/",
          "height": 486
        },
        "id": "U2jNmZVw2c8-",
        "outputId": "2eb6e3a3-4755-4690-96da-ef522a94ef93"
      },
      "outputs": [
        {
          "data": {
            "text/html": [
              "<div>\n",
              "<style scoped>\n",
              "    .dataframe tbody tr th:only-of-type {\n",
              "        vertical-align: middle;\n",
              "    }\n",
              "\n",
              "    .dataframe tbody tr th {\n",
              "        vertical-align: top;\n",
              "    }\n",
              "\n",
              "    .dataframe thead tr th {\n",
              "        text-align: left;\n",
              "    }\n",
              "\n",
              "    .dataframe thead tr:last-of-type th {\n",
              "        text-align: right;\n",
              "    }\n",
              "</style>\n",
              "<table border=\"1\" class=\"dataframe\">\n",
              "  <thead>\n",
              "    <tr>\n",
              "      <th></th>\n",
              "      <th>order_id</th>\n",
              "      <th colspan=\"2\" halign=\"left\">price</th>\n",
              "    </tr>\n",
              "    <tr>\n",
              "      <th></th>\n",
              "      <th>nunique</th>\n",
              "      <th>min</th>\n",
              "      <th>max</th>\n",
              "    </tr>\n",
              "    <tr>\n",
              "      <th>product_category_name_english</th>\n",
              "      <th></th>\n",
              "      <th></th>\n",
              "      <th></th>\n",
              "    </tr>\n",
              "  </thead>\n",
              "  <tbody>\n",
              "    <tr>\n",
              "      <th>agro_industry_and_commerce</th>\n",
              "      <td>182</td>\n",
              "      <td>12.99</td>\n",
              "      <td>2990.00</td>\n",
              "    </tr>\n",
              "    <tr>\n",
              "      <th>air_conditioning</th>\n",
              "      <td>253</td>\n",
              "      <td>10.90</td>\n",
              "      <td>1599.00</td>\n",
              "    </tr>\n",
              "    <tr>\n",
              "      <th>art</th>\n",
              "      <td>202</td>\n",
              "      <td>3.50</td>\n",
              "      <td>6499.00</td>\n",
              "    </tr>\n",
              "    <tr>\n",
              "      <th>arts_and_craftmanship</th>\n",
              "      <td>23</td>\n",
              "      <td>9.80</td>\n",
              "      <td>289.49</td>\n",
              "    </tr>\n",
              "    <tr>\n",
              "      <th>audio</th>\n",
              "      <td>350</td>\n",
              "      <td>14.90</td>\n",
              "      <td>598.99</td>\n",
              "    </tr>\n",
              "    <tr>\n",
              "      <th>...</th>\n",
              "      <td>...</td>\n",
              "      <td>...</td>\n",
              "      <td>...</td>\n",
              "    </tr>\n",
              "    <tr>\n",
              "      <th>stationery</th>\n",
              "      <td>2311</td>\n",
              "      <td>2.29</td>\n",
              "      <td>1693.00</td>\n",
              "    </tr>\n",
              "    <tr>\n",
              "      <th>tablets_printing_image</th>\n",
              "      <td>79</td>\n",
              "      <td>14.90</td>\n",
              "      <td>889.99</td>\n",
              "    </tr>\n",
              "    <tr>\n",
              "      <th>telephony</th>\n",
              "      <td>4199</td>\n",
              "      <td>5.00</td>\n",
              "      <td>2428.00</td>\n",
              "    </tr>\n",
              "    <tr>\n",
              "      <th>toys</th>\n",
              "      <td>3886</td>\n",
              "      <td>4.90</td>\n",
              "      <td>1699.99</td>\n",
              "    </tr>\n",
              "    <tr>\n",
              "      <th>watches_gifts</th>\n",
              "      <td>5624</td>\n",
              "      <td>8.99</td>\n",
              "      <td>3999.90</td>\n",
              "    </tr>\n",
              "  </tbody>\n",
              "</table>\n",
              "<p>71 rows × 3 columns</p>\n",
              "</div>"
            ],
            "text/plain": [
              "                              order_id  price         \n",
              "                               nunique    min      max\n",
              "product_category_name_english                         \n",
              "agro_industry_and_commerce         182  12.99  2990.00\n",
              "air_conditioning                   253  10.90  1599.00\n",
              "art                                202   3.50  6499.00\n",
              "arts_and_craftmanship               23   9.80   289.49\n",
              "audio                              350  14.90   598.99\n",
              "...                                ...    ...      ...\n",
              "stationery                        2311   2.29  1693.00\n",
              "tablets_printing_image              79  14.90   889.99\n",
              "telephony                         4199   5.00  2428.00\n",
              "toys                              3886   4.90  1699.99\n",
              "watches_gifts                     5624   8.99  3999.90\n",
              "\n",
              "[71 rows x 3 columns]"
            ]
          },
          "execution_count": 31,
          "metadata": {},
          "output_type": "execute_result"
        }
      ],
      "source": [
        "sellers_df.groupby(by=\"product_category_name_english\").agg({\n",
        "    \"order_id\": \"nunique\",\n",
        "    \"price\":  [\"min\", \"max\"]\n",
        "})"
      ]
    },
    {
      "cell_type": "markdown",
      "metadata": {
        "id": "iEL6Tngh3WCo"
      },
      "source": [
        "*   Merge all data\n"
      ]
    },
    {
      "cell_type": "markdown",
      "metadata": {
        "id": "3EpcTEku3bVL"
      },
      "source": [
        "Drop data location karena tidak diperlukan"
      ]
    },
    {
      "cell_type": "code",
      "execution_count": 32,
      "metadata": {
        "colab": {
          "base_uri": "https://localhost:8080/",
          "height": 761
        },
        "id": "ST9NkpOC3gUC",
        "outputId": "e71ff224-95d1-478b-de62-51f76819594a"
      },
      "outputs": [
        {
          "name": "stdout",
          "output_type": "stream",
          "text": [
            "                         customer_id                customer_unique_id  \\\n",
            "0   06b8999e2fba1a1fbc88172c00ba8bc7  861eff4711a542e4b93843c6dd7febb0   \n",
            "1   18955e83d337fd6b2def6b18a428ac77  290c77bc529b7ac935b93aa66c333dc3   \n",
            "2   4e7b3e00288586ebd08712fdd0374a03  060e732b5b29e8181a18229c7b0b2b5e   \n",
            "3   b2b6027bc5c5109e529d4dc6358b12c3  259dac757896d24d7702b9acbbff3f3c   \n",
            "4   4f2d8ab171c80ec8364f7c12e35b23ad  345ecd01c38d18a9036ed96c73b8d066   \n",
            "5   879864dab9bc3047522c92c82e1212b8  4c93744516667ad3b8f1fb645a3116a4   \n",
            "6   fd826e7cf63160e536e0908c76c3f441  addec96d2e059c80c30fe6871d30d177   \n",
            "7   5e274e7a0c3809e14aba7ad5aae0d407  57b2a98a409812fe9618067b6b8ebe4f   \n",
            "8   5adf08e34b2e993982a47070956c5c65  1175e95fb47ddff9de6b2b06188f7e0d   \n",
            "9   4b7139f34592b3a31687243a302fa75b  9afe194fb833f79e300e37e580171f22   \n",
            "10  9fb35e4ed6f0a14a4977cd9aea4042bb  2a7745e1ed516b289ed9b29c7d0539a5   \n",
            "11  5aa9e4fdd4dfd20959cad2d772509598  2a46fb94aef5cbeeb850418118cee090   \n",
            "12  b2d1536598b73a9abd18e0d75d92f0a3  918dc87cd72cd9f6ed4bd442ed785235   \n",
            "13  eabebad39a88bb6f5b52376faec28612  295c05e81917928d76245e842748184d   \n",
            "14  1f1c7bf1c9b041b292af6c1c4470b753  3151a81801c8386361b62277d7fa5ecf   \n",
            "15  206f3129c0e4d7d0b9550426023f0a08  21f748a16f4e1688a9014eb3ee6fa325   \n",
            "16  a7c125a0a07b75146167b7f04a7f8e98  5c2991dbd08bbf3cf410713c4de5a0b5   \n",
            "17  c5c61596a3b6bd0cee5766992c48a9a1  b6e99561fe6f34a55b0b7da92f8ed775   \n",
            "18  9b8ce803689b3562defaad4613ef426f  7f3a72e8f988c6e735ba118d54f47458   \n",
            "19  9b8ce803689b3562defaad4613ef426f  7f3a72e8f988c6e735ba118d54f47458   \n",
            "\n",
            "    customer_zip_code_prefix          customer_city customer_state  \\\n",
            "0                      14409                 franca             SP   \n",
            "1                       9790  sao bernardo do campo             SP   \n",
            "2                       1151              sao paulo             SP   \n",
            "3                       8775        mogi das cruzes             SP   \n",
            "4                      13056               campinas             SP   \n",
            "5                      89254         jaragua do sul             SC   \n",
            "6                       4534              sao paulo             SP   \n",
            "7                      35182                timoteo             MG   \n",
            "8                      81560               curitiba             PR   \n",
            "9                      30575         belo horizonte             MG   \n",
            "10                     39400          montes claros             MG   \n",
            "11                     20231         rio de janeiro             RJ   \n",
            "12                     18682       lencois paulista             SP   \n",
            "13                      5704              sao paulo             SP   \n",
            "14                     95110          caxias do sul             RS   \n",
            "15                     13412             piracicaba             SP   \n",
            "16                     22750         rio de janeiro             RJ   \n",
            "17                      7124              guarulhos             SP   \n",
            "18                      5416              sao paulo             SP   \n",
            "19                      5416              sao paulo             SP   \n",
            "\n",
            "                            order_id order_status order_purchase_timestamp  \\\n",
            "0   00e7ee1b050b8499577073aeb2a297a1    delivered      2017-05-16 15:05:35   \n",
            "1   29150127e6685892b6eab3eec79f59c7    delivered      2018-01-12 20:48:24   \n",
            "2   b2059ed67ce144a36e2aa97d2c9e9ad2    delivered      2018-05-19 16:07:45   \n",
            "3   951670f92359f4fe4a63112aa7306eba    delivered      2018-03-13 16:06:38   \n",
            "4   6b7d50bd145f6fc7f33cebabd7e49d0f    delivered      2018-07-29 09:51:30   \n",
            "5   5741ea1f91b5fbab2bd2dc653a5b5099    delivered      2017-09-14 18:14:31   \n",
            "6   36e694cf4cbc2a4803200c35e84abdc4    delivered      2018-02-19 14:38:35   \n",
            "7   1093c8304c7a003280dd34598194913d    delivered      2017-11-16 19:29:02   \n",
            "8   1ebeea841c590e86a14a0d7a48e7d062    delivered      2018-01-18 12:35:44   \n",
            "9   7433cbcc783205509d66a5260da5b574    delivered      2018-01-08 11:22:34   \n",
            "10  8428e578bb1cf839ae26a6b7615502b9    delivered      2017-11-27 17:23:20   \n",
            "11  f86c5ed7048ac10eb88ec21c00f71892    delivered      2018-02-07 11:36:42   \n",
            "12  83d8f70418eefd96f37b483dff430305    delivered      2017-09-09 09:54:57   \n",
            "13  852d2f4d37773bcbc21c8e09a05a4ea5    delivered      2018-03-07 15:57:14   \n",
            "14  6c949e670b5d33dc8fb8ad25b6da4860    delivered      2018-04-01 18:59:31   \n",
            "15  eac76692452422620996fe5e1a7f8bb0    delivered      2018-01-29 20:32:08   \n",
            "16  72bab69c50432c6f94d8b50a5f84b69a    delivered      2018-08-13 23:45:05   \n",
            "17  ec28553b12bef4b538e5d7454464a1c6    delivered      2018-06-18 13:34:21   \n",
            "18  17825f24877a9289214c301ae0c9424b    delivered      2017-05-11 13:48:47   \n",
            "19  17825f24877a9289214c301ae0c9424b    delivered      2017-05-11 13:48:47   \n",
            "\n",
            "     order_approved_at order_delivered_carrier_date  ... product_photos_qty  \\\n",
            "0  2017-05-16 15:22:12          2017-05-23 10:47:57  ...                1.0   \n",
            "1  2018-01-12 20:58:32          2018-01-15 17:14:59  ...                3.0   \n",
            "2  2018-05-20 16:19:10          2018-06-11 14:31:00  ...                1.0   \n",
            "3  2018-03-13 17:29:19          2018-03-27 23:22:42  ...                1.0   \n",
            "4  2018-07-29 10:10:09          2018-07-30 15:16:00  ...                1.0   \n",
            "5  2017-09-14 18:25:11          2017-09-18 21:27:40  ...                2.0   \n",
            "6  2018-02-19 14:50:37          2018-02-20 00:03:39  ...                3.0   \n",
            "7  2017-11-16 19:55:41          2017-11-22 16:46:33  ...                0.0   \n",
            "8  2018-01-18 12:56:32          2018-01-18 23:25:35  ...                5.0   \n",
            "9  2018-01-08 11:35:27          2018-01-11 01:00:40  ...                1.0   \n",
            "10 2017-11-27 18:01:20          2017-11-28 23:04:41  ...                8.0   \n",
            "11 2018-02-07 11:55:28          2018-02-08 17:46:32  ...                1.0   \n",
            "12 2017-09-09 10:10:17          2017-09-12 12:42:43  ...                5.0   \n",
            "13 2018-03-07 16:15:30          2018-03-12 23:02:49  ...                6.0   \n",
            "14 2018-04-02 17:55:19          2018-04-03 19:33:13  ...                2.0   \n",
            "15 2018-01-29 21:13:27          2018-02-03 00:09:40  ...                1.0   \n",
            "16 2018-08-13 23:55:13          2018-08-15 12:11:00  ...                5.0   \n",
            "17 2018-06-18 13:55:47          2018-06-19 15:07:00  ...                1.0   \n",
            "18 2017-05-13 11:55:16          2017-05-15 15:30:02  ...                1.0   \n",
            "19 2017-05-13 11:55:16          2017-05-15 15:30:02  ...                1.0   \n",
            "\n",
            "   product_category_name_english order_item_id  \\\n",
            "0               office_furniture           1.0   \n",
            "1                     housewares           1.0   \n",
            "2               office_furniture           1.0   \n",
            "3               office_furniture           1.0   \n",
            "4                   home_confort           1.0   \n",
            "5                 sports_leisure           1.0   \n",
            "6          computers_accessories           1.0   \n",
            "7                            NaN           1.0   \n",
            "8                           toys           1.0   \n",
            "9                furniture_decor           1.0   \n",
            "10                          auto           1.0   \n",
            "11         computers_accessories           1.0   \n",
            "12              air_conditioning           1.0   \n",
            "13                     telephony           1.0   \n",
            "14                 health_beauty           1.0   \n",
            "15                  garden_tools           1.0   \n",
            "16                          auto           1.0   \n",
            "17                      pet_shop           1.0   \n",
            "18                bed_bath_table           1.0   \n",
            "19                bed_bath_table           1.0   \n",
            "\n",
            "                           seller_id shipping_limit_date   price  \\\n",
            "0   7c67e1448b00f6e969d365cea6b010ab 2017-05-22 15:22:12  124.99   \n",
            "1   b8bc237ba3788b23da09c0f1f3a3288c 2018-01-18 20:58:32  289.00   \n",
            "2   7c67e1448b00f6e969d365cea6b010ab 2018-06-05 16:19:10  139.94   \n",
            "3   7c67e1448b00f6e969d365cea6b010ab 2018-03-27 16:31:16  149.94   \n",
            "4   4a3ca9315b744ce9f8e9374361493884 2018-07-31 10:10:09  230.00   \n",
            "5   8f2ce03f928b567e3d56181ae20ae952 2017-09-20 18:25:11  259.90   \n",
            "6   9f505651f4a6abe901a56cdc21508025 2018-02-23 14:50:37   14.99   \n",
            "7   2a7dc43cecabf23403078e2188437d1d 2017-11-22 19:55:41   19.90   \n",
            "8   95e03ca3d4146e4011985981aeb959b9 2018-01-30 12:56:32   25.00   \n",
            "9   0241d4d5d36f10f80c644447315af0bd 2018-01-12 11:35:27   99.90   \n",
            "10  b6e1504972665f739dec4facb9943775 2017-12-01 18:01:20   25.30   \n",
            "11  ec8879960bd2221d5c32f8e12f7da711 2018-02-14 11:55:28  129.90   \n",
            "12  7a241947449cc45dbfda4f9d0798d9d0 2017-09-14 10:10:17   99.00   \n",
            "13  ea8482cd71df3c1969d7b9473ff13abc 2018-03-13 16:15:30   27.99   \n",
            "14  b2ac621f0d0322434d04a12b078b9369 2018-04-06 17:55:19   84.00   \n",
            "15  001cca7ae9ae17fb1caed9dfb1094831 2018-02-02 21:13:27  129.00   \n",
            "16  f27e33c6d29b5138fa9967bcd445b6d5 2018-08-19 23:55:13  119.90   \n",
            "17  e9779976487b77c6d4ac45f75ec7afe9 2018-06-22 13:55:47    7.09   \n",
            "18  4a3ca9315b744ce9f8e9374361493884 2017-05-19 11:55:16   89.90   \n",
            "19  4a3ca9315b744ce9f8e9374361493884 2017-05-19 11:55:16   89.90   \n",
            "\n",
            "    freight_value seller_zip_code_prefix      seller_city  seller_state  \n",
            "0           21.88                 8577.0  itaquaquecetuba            SP  \n",
            "1           46.48                88303.0           itajai            SC  \n",
            "2           17.79                 8577.0  itaquaquecetuba            SP  \n",
            "3           23.36                 8577.0  itaquaquecetuba            SP  \n",
            "4           22.25                14940.0         ibitinga            SP  \n",
            "5           22.31                 5141.0         pirituba            SP  \n",
            "6            7.78                 4102.0        sao paulo            SP  \n",
            "7           16.11                 4142.0        sao paulo            SP  \n",
            "8           14.10                21210.0   rio de janeiro            RJ  \n",
            "9           22.57                80330.0         curitiba            PR  \n",
            "10          15.10                13405.0       piracicaba            SP  \n",
            "11          23.23                13253.0          itatiba            SP  \n",
            "12          18.31                37590.0        jacutinga            MG  \n",
            "13           8.40                 4160.0        sao paulo            SP  \n",
            "14          18.47                80220.0         curitiba            PR  \n",
            "15          40.23                29156.0        cariacica            ES  \n",
            "16          17.03                 4273.0        sao paulo            SP  \n",
            "17           9.44                11701.0     praia grande            SP  \n",
            "18          12.13                14940.0         ibitinga            SP  \n",
            "19          12.13                14940.0         ibitinga            SP  \n",
            "\n",
            "[20 rows x 34 columns]\n"
          ]
        }
      ],
      "source": [
        "def merge_all_data(customers_df, sellers_df):\n",
        "     # Menggabungkan DataFrame customers_df dengan DataFrame sellers_df berdasarkan kolom 'order_id'\n",
        "    all_data = pd.merge(\n",
        "        left=customers_df,\n",
        "        right=sellers_df,\n",
        "        how=\"left\",\n",
        "        left_on=\"order_id\",\n",
        "        right_on=\"order_id\"\n",
        "    )\n",
        "    return all_data\n",
        "\n",
        "# Memanggil fungsi untuk menggabungkan DataFrames customers_df dan sellers_df\n",
        "all_data = merge_all_data(customers_df, sellers_df)\n",
        "\n",
        "# Menampilkan lima belas baris pertama dari DataFrame hasil penggabungan\n",
        "print(all_data.head(20))\n"
      ]
    },
    {
      "cell_type": "code",
      "execution_count": 33,
      "metadata": {
        "id": "7ok2wlyPFITg"
      },
      "outputs": [
        {
          "name": "stdout",
          "output_type": "stream",
          "text": [
            "<class 'pandas.core.frame.DataFrame'>\n",
            "Int64Index: 99441 entries, 0 to 119142\n",
            "Data columns (total 34 columns):\n",
            " #   Column                         Non-Null Count  Dtype         \n",
            "---  ------                         --------------  -----         \n",
            " 0   customer_id                    99441 non-null  object        \n",
            " 1   customer_unique_id             99441 non-null  object        \n",
            " 2   customer_zip_code_prefix       99441 non-null  int64         \n",
            " 3   customer_city                  99441 non-null  object        \n",
            " 4   customer_state                 99441 non-null  object        \n",
            " 5   order_id                       99441 non-null  object        \n",
            " 6   order_status                   99441 non-null  object        \n",
            " 7   order_purchase_timestamp       99441 non-null  datetime64[ns]\n",
            " 8   order_approved_at              99281 non-null  datetime64[ns]\n",
            " 9   order_delivered_carrier_date   97658 non-null  datetime64[ns]\n",
            " 10  order_delivered_customer_date  96476 non-null  datetime64[ns]\n",
            " 11  order_estimated_delivery_date  99441 non-null  datetime64[ns]\n",
            " 12  delivered_on_time              99441 non-null  object        \n",
            " 13  payment_sequential             99440 non-null  float64       \n",
            " 14  payment_type                   99440 non-null  object        \n",
            " 15  payment_installments           99440 non-null  float64       \n",
            " 16  payment_value                  99440 non-null  float64       \n",
            " 17  review_id                      98672 non-null  object        \n",
            " 18  review_score                   98672 non-null  float64       \n",
            " 19  review_comment_message         98672 non-null  float64       \n",
            " 20  review_creation_date           98672 non-null  datetime64[ns]\n",
            " 21  review_answer_timestamp        98672 non-null  datetime64[ns]\n",
            " 22  product_id                     98666 non-null  object        \n",
            " 23  product_category_name          98666 non-null  object        \n",
            " 24  product_photos_qty             98666 non-null  float64       \n",
            " 25  product_category_name_english  97227 non-null  object        \n",
            " 26  order_item_id                  98666 non-null  float64       \n",
            " 27  seller_id                      98666 non-null  object        \n",
            " 28  shipping_limit_date            98666 non-null  datetime64[ns]\n",
            " 29  price                          98666 non-null  float64       \n",
            " 30  freight_value                  98666 non-null  float64       \n",
            " 31  seller_zip_code_prefix         98666 non-null  float64       \n",
            " 32  seller_city                    98666 non-null  object        \n",
            " 33  seller_state                   98666 non-null  object        \n",
            "dtypes: datetime64[ns](8), float64(10), int64(1), object(15)\n",
            "memory usage: 26.6+ MB\n"
          ]
        }
      ],
      "source": [
        "all_data_df = all_data.drop_duplicates('order_id')\n",
        "all_data_df.info()"
      ]
    },
    {
      "cell_type": "code",
      "execution_count": 34,
      "metadata": {
        "colab": {
          "base_uri": "https://localhost:8080/",
          "height": 927
        },
        "id": "xxw_lwhOM8zP",
        "outputId": "aeee0cf3-cdf3-43b4-badb-a36ce1ecce15"
      },
      "outputs": [
        {
          "data": {
            "text/html": [
              "<div>\n",
              "<style scoped>\n",
              "    .dataframe tbody tr th:only-of-type {\n",
              "        vertical-align: middle;\n",
              "    }\n",
              "\n",
              "    .dataframe tbody tr th {\n",
              "        vertical-align: top;\n",
              "    }\n",
              "\n",
              "    .dataframe thead th {\n",
              "        text-align: right;\n",
              "    }\n",
              "</style>\n",
              "<table border=\"1\" class=\"dataframe\">\n",
              "  <thead>\n",
              "    <tr style=\"text-align: right;\">\n",
              "      <th></th>\n",
              "      <th>order_id</th>\n",
              "      <th>payment_value</th>\n",
              "    </tr>\n",
              "    <tr>\n",
              "      <th>customer_state</th>\n",
              "      <th></th>\n",
              "      <th></th>\n",
              "    </tr>\n",
              "  </thead>\n",
              "  <tbody>\n",
              "    <tr>\n",
              "      <th>SP</th>\n",
              "      <td>41746</td>\n",
              "      <td>7726078.35</td>\n",
              "    </tr>\n",
              "    <tr>\n",
              "      <th>RJ</th>\n",
              "      <td>12852</td>\n",
              "      <td>2795615.67</td>\n",
              "    </tr>\n",
              "    <tr>\n",
              "      <th>MG</th>\n",
              "      <td>11635</td>\n",
              "      <td>2351221.09</td>\n",
              "    </tr>\n",
              "    <tr>\n",
              "      <th>RS</th>\n",
              "      <td>5466</td>\n",
              "      <td>1160175.66</td>\n",
              "    </tr>\n",
              "    <tr>\n",
              "      <th>PR</th>\n",
              "      <td>5045</td>\n",
              "      <td>1079795.49</td>\n",
              "    </tr>\n",
              "    <tr>\n",
              "      <th>BA</th>\n",
              "      <td>3380</td>\n",
              "      <td>805070.98</td>\n",
              "    </tr>\n",
              "    <tr>\n",
              "      <th>SC</th>\n",
              "      <td>3637</td>\n",
              "      <td>801276.45</td>\n",
              "    </tr>\n",
              "    <tr>\n",
              "      <th>GO</th>\n",
              "      <td>2020</td>\n",
              "      <td>520481.65</td>\n",
              "    </tr>\n",
              "    <tr>\n",
              "      <th>DF</th>\n",
              "      <td>2140</td>\n",
              "      <td>438095.32</td>\n",
              "    </tr>\n",
              "    <tr>\n",
              "      <th>ES</th>\n",
              "      <td>2033</td>\n",
              "      <td>408611.64</td>\n",
              "    </tr>\n",
              "    <tr>\n",
              "      <th>PE</th>\n",
              "      <td>1652</td>\n",
              "      <td>380294.18</td>\n",
              "    </tr>\n",
              "    <tr>\n",
              "      <th>CE</th>\n",
              "      <td>1336</td>\n",
              "      <td>349290.36</td>\n",
              "    </tr>\n",
              "    <tr>\n",
              "      <th>PA</th>\n",
              "      <td>975</td>\n",
              "      <td>263217.70</td>\n",
              "    </tr>\n",
              "    <tr>\n",
              "      <th>MT</th>\n",
              "      <td>907</td>\n",
              "      <td>257802.26</td>\n",
              "    </tr>\n",
              "    <tr>\n",
              "      <th>MA</th>\n",
              "      <td>747</td>\n",
              "      <td>200363.24</td>\n",
              "    </tr>\n",
              "    <tr>\n",
              "      <th>PB</th>\n",
              "      <td>536</td>\n",
              "      <td>181660.73</td>\n",
              "    </tr>\n",
              "    <tr>\n",
              "      <th>MS</th>\n",
              "      <td>715</td>\n",
              "      <td>167670.27</td>\n",
              "    </tr>\n",
              "    <tr>\n",
              "      <th>PI</th>\n",
              "      <td>495</td>\n",
              "      <td>137158.89</td>\n",
              "    </tr>\n",
              "    <tr>\n",
              "      <th>RN</th>\n",
              "      <td>485</td>\n",
              "      <td>117192.91</td>\n",
              "    </tr>\n",
              "    <tr>\n",
              "      <th>AL</th>\n",
              "      <td>413</td>\n",
              "      <td>112296.47</td>\n",
              "    </tr>\n",
              "    <tr>\n",
              "      <th>SE</th>\n",
              "      <td>350</td>\n",
              "      <td>90651.44</td>\n",
              "    </tr>\n",
              "    <tr>\n",
              "      <th>TO</th>\n",
              "      <td>280</td>\n",
              "      <td>72412.08</td>\n",
              "    </tr>\n",
              "    <tr>\n",
              "      <th>RO</th>\n",
              "      <td>253</td>\n",
              "      <td>69184.48</td>\n",
              "    </tr>\n",
              "    <tr>\n",
              "      <th>AM</th>\n",
              "      <td>148</td>\n",
              "      <td>34956.93</td>\n",
              "    </tr>\n",
              "    <tr>\n",
              "      <th>AC</th>\n",
              "      <td>81</td>\n",
              "      <td>24984.86</td>\n",
              "    </tr>\n",
              "    <tr>\n",
              "      <th>AP</th>\n",
              "      <td>68</td>\n",
              "      <td>21642.70</td>\n",
              "    </tr>\n",
              "    <tr>\n",
              "      <th>RR</th>\n",
              "      <td>46</td>\n",
              "      <td>12462.21</td>\n",
              "    </tr>\n",
              "  </tbody>\n",
              "</table>\n",
              "</div>"
            ],
            "text/plain": [
              "                order_id  payment_value\n",
              "customer_state                         \n",
              "SP                 41746     7726078.35\n",
              "RJ                 12852     2795615.67\n",
              "MG                 11635     2351221.09\n",
              "RS                  5466     1160175.66\n",
              "PR                  5045     1079795.49\n",
              "BA                  3380      805070.98\n",
              "SC                  3637      801276.45\n",
              "GO                  2020      520481.65\n",
              "DF                  2140      438095.32\n",
              "ES                  2033      408611.64\n",
              "PE                  1652      380294.18\n",
              "CE                  1336      349290.36\n",
              "PA                   975      263217.70\n",
              "MT                   907      257802.26\n",
              "MA                   747      200363.24\n",
              "PB                   536      181660.73\n",
              "MS                   715      167670.27\n",
              "PI                   495      137158.89\n",
              "RN                   485      117192.91\n",
              "AL                   413      112296.47\n",
              "SE                   350       90651.44\n",
              "TO                   280       72412.08\n",
              "RO                   253       69184.48\n",
              "AM                   148       34956.93\n",
              "AC                    81       24984.86\n",
              "AP                    68       21642.70\n",
              "RR                    46       12462.21"
            ]
          },
          "execution_count": 34,
          "metadata": {},
          "output_type": "execute_result"
        }
      ],
      "source": [
        "all_data.groupby(by=\"customer_state\").agg({\n",
        "    \"order_id\": \"nunique\",\n",
        "    \"payment_value\": \"sum\"\n",
        "}).sort_values(by=\"payment_value\", ascending=False)"
      ]
    },
    {
      "cell_type": "code",
      "execution_count": 35,
      "metadata": {
        "colab": {
          "base_uri": "https://localhost:8080/",
          "height": 486
        },
        "id": "byUOMEXBNFR0",
        "outputId": "f9f6de16-c884-4690-e854-187b42781a59"
      },
      "outputs": [
        {
          "data": {
            "text/html": [
              "<div>\n",
              "<style scoped>\n",
              "    .dataframe tbody tr th:only-of-type {\n",
              "        vertical-align: middle;\n",
              "    }\n",
              "\n",
              "    .dataframe tbody tr th {\n",
              "        vertical-align: top;\n",
              "    }\n",
              "\n",
              "    .dataframe thead tr th {\n",
              "        text-align: left;\n",
              "    }\n",
              "\n",
              "    .dataframe thead tr:last-of-type th {\n",
              "        text-align: right;\n",
              "    }\n",
              "</style>\n",
              "<table border=\"1\" class=\"dataframe\">\n",
              "  <thead>\n",
              "    <tr>\n",
              "      <th></th>\n",
              "      <th>order_id</th>\n",
              "      <th colspan=\"2\" halign=\"left\">review_score</th>\n",
              "    </tr>\n",
              "    <tr>\n",
              "      <th></th>\n",
              "      <th>nunique</th>\n",
              "      <th>min</th>\n",
              "      <th>max</th>\n",
              "    </tr>\n",
              "    <tr>\n",
              "      <th>product_category_name_english</th>\n",
              "      <th></th>\n",
              "      <th></th>\n",
              "      <th></th>\n",
              "    </tr>\n",
              "  </thead>\n",
              "  <tbody>\n",
              "    <tr>\n",
              "      <th>agro_industry_and_commerce</th>\n",
              "      <td>182</td>\n",
              "      <td>1.0</td>\n",
              "      <td>5.0</td>\n",
              "    </tr>\n",
              "    <tr>\n",
              "      <th>air_conditioning</th>\n",
              "      <td>253</td>\n",
              "      <td>1.0</td>\n",
              "      <td>5.0</td>\n",
              "    </tr>\n",
              "    <tr>\n",
              "      <th>art</th>\n",
              "      <td>202</td>\n",
              "      <td>1.0</td>\n",
              "      <td>5.0</td>\n",
              "    </tr>\n",
              "    <tr>\n",
              "      <th>arts_and_craftmanship</th>\n",
              "      <td>23</td>\n",
              "      <td>1.0</td>\n",
              "      <td>5.0</td>\n",
              "    </tr>\n",
              "    <tr>\n",
              "      <th>audio</th>\n",
              "      <td>350</td>\n",
              "      <td>1.0</td>\n",
              "      <td>5.0</td>\n",
              "    </tr>\n",
              "    <tr>\n",
              "      <th>...</th>\n",
              "      <td>...</td>\n",
              "      <td>...</td>\n",
              "      <td>...</td>\n",
              "    </tr>\n",
              "    <tr>\n",
              "      <th>stationery</th>\n",
              "      <td>2311</td>\n",
              "      <td>1.0</td>\n",
              "      <td>5.0</td>\n",
              "    </tr>\n",
              "    <tr>\n",
              "      <th>tablets_printing_image</th>\n",
              "      <td>79</td>\n",
              "      <td>1.0</td>\n",
              "      <td>5.0</td>\n",
              "    </tr>\n",
              "    <tr>\n",
              "      <th>telephony</th>\n",
              "      <td>4199</td>\n",
              "      <td>1.0</td>\n",
              "      <td>5.0</td>\n",
              "    </tr>\n",
              "    <tr>\n",
              "      <th>toys</th>\n",
              "      <td>3886</td>\n",
              "      <td>1.0</td>\n",
              "      <td>5.0</td>\n",
              "    </tr>\n",
              "    <tr>\n",
              "      <th>watches_gifts</th>\n",
              "      <td>5624</td>\n",
              "      <td>1.0</td>\n",
              "      <td>5.0</td>\n",
              "    </tr>\n",
              "  </tbody>\n",
              "</table>\n",
              "<p>71 rows × 3 columns</p>\n",
              "</div>"
            ],
            "text/plain": [
              "                              order_id review_score     \n",
              "                               nunique          min  max\n",
              "product_category_name_english                           \n",
              "agro_industry_and_commerce         182          1.0  5.0\n",
              "air_conditioning                   253          1.0  5.0\n",
              "art                                202          1.0  5.0\n",
              "arts_and_craftmanship               23          1.0  5.0\n",
              "audio                              350          1.0  5.0\n",
              "...                                ...          ...  ...\n",
              "stationery                        2311          1.0  5.0\n",
              "tablets_printing_image              79          1.0  5.0\n",
              "telephony                         4199          1.0  5.0\n",
              "toys                              3886          1.0  5.0\n",
              "watches_gifts                     5624          1.0  5.0\n",
              "\n",
              "[71 rows x 3 columns]"
            ]
          },
          "execution_count": 35,
          "metadata": {},
          "output_type": "execute_result"
        }
      ],
      "source": [
        "all_data.groupby(by=\"product_category_name_english\").agg({\n",
        "    \"order_id\": \"nunique\",\n",
        "    \"review_score\":  [\"min\", \"max\"]\n",
        "})"
      ]
    },
    {
      "cell_type": "markdown",
      "metadata": {
        "id": "qyj9M5el6d2h"
      },
      "source": [
        "Convert all_data_df to .csv"
      ]
    },
    {
      "cell_type": "code",
      "execution_count": 36,
      "metadata": {
        "id": "f-exPPEU6e2Z"
      },
      "outputs": [],
      "source": [
        "output_csv_path = \"./dataframe.csv\"\n",
        "\n",
        "# Menyimpan data gabungan kedalam satu file\n",
        "all_data_df.to_csv(output_csv_path, index=False)"
      ]
    },
    {
      "cell_type": "markdown",
      "metadata": {
        "id": "TFBDLZndN4Sk"
      },
      "source": [
        "## Visualization & Explanatory Analysis"
      ]
    },
    {
      "cell_type": "markdown",
      "metadata": {},
      "source": [
        "### Pertanyaan 1:"
      ]
    },
    {
      "cell_type": "markdown",
      "metadata": {
        "id": "np448ftSN-wA"
      },
      "source": [
        "Produk mana yang paling laris? "
      ]
    },
    {
      "cell_type": "code",
      "execution_count": 40,
      "metadata": {
        "colab": {
          "base_uri": "https://localhost:8080/",
          "height": 455
        },
        "id": "zlPxnfyNQJe9",
        "outputId": "885c52e4-7e62-4029-ffb3-d97247a0f705"
      },
      "outputs": [
        {
          "name": "stdout",
          "output_type": "stream",
          "text": [
            "                         product_id   product_category_name  order_item_id  \\\n",
            "0  bb50f2e236e5eea0100680137654686c            beleza_saude            215   \n",
            "1  5769ef0a239114ac3a854af00df129e4          telefonia_fixa             36   \n",
            "2  6cdd53843498f92890544667809f1595            beleza_saude            164   \n",
            "3  d1c427060a0f73f6b889a5c7c61f2ac4  informatica_acessorios            369   \n",
            "4  d6160fb7873f184099d9bc95e30376af                     pcs             35   \n",
            "\n",
            "         price         total  sell_probability product_category_name_english  \n",
            "0   327.615385  70437.307692          0.006525                 health_beauty  \n",
            "1  1680.000000  60480.000000          0.001093               fixed_telephony  \n",
            "2   350.834615  57536.876923          0.004977                 health_beauty  \n",
            "3   137.651633  50793.452449          0.011198         computers_accessories  \n",
            "4  1397.124000  48899.340000          0.001062                     computers  \n"
          ]
        }
      ],
      "source": [
        "# Gabungkan dataset 'items' dengan 'products' berdasarkan kolom 'product_id'\n",
        "items_product = pd.merge(data['items'], data['products'], on='product_id', how='inner')\n",
        "\n",
        "# Gabungkan dataset 'orders' dengan hasil penggabungan sebelumnya berdasarkan kolom 'order_id'\n",
        "orders_ip = pd.merge(data['orders'], items_product, on='order_id', how='inner')\n",
        "\n",
        "# Pivot table dengan agregasi jumlah item yang dibeli dan rata-rata harga\n",
        "product_revenue = orders_ip.pivot_table(index=['product_id', 'product_category_name'], aggfunc={'order_item_id': 'sum', 'price': 'mean'})\n",
        "\n",
        "# Hitung total pendapatan dan probabilitas penjualan untuk setiap produk\n",
        "product_revenue['total'] = product_revenue['order_item_id'] * product_revenue['price']\n",
        "product_revenue['sell_probability'] = product_revenue['order_item_id'] / len(product_revenue)\n",
        "product_revenue.reset_index(inplace=True)\n",
        "\n",
        "# Mengurutkan berdasarkan total pendapatan\n",
        "product_revenue = product_revenue.sort_values(by='total', ascending=False)\n",
        "\n",
        "# Menampilkan nama produk di DataFrame\n",
        "product_revenue_with_name = pd.merge(product_revenue, data['category'], on='product_category_name', how='left')\n",
        "\n",
        "# Menampilkan DataFrame dengan hasil pengurutan\n",
        "print(product_revenue_with_name.head())\n"
      ]
    },
    {
      "cell_type": "markdown",
      "metadata": {},
      "source": [
        "### Pertanyaan 2:"
      ]
    },
    {
      "cell_type": "markdown",
      "metadata": {
        "id": "IrowKsvUd6ie"
      },
      "source": [
        "Mana yang memiliki keuntungan terbesar antara produk murah atau produk mahal?"
      ]
    },
    {
      "cell_type": "code",
      "execution_count": 42,
      "metadata": {},
      "outputs": [
        {
          "data": {
            "image/png": "[encoded data removed]",
            "text/plain": [
              "<Figure size 1200x800 with 1 Axes>"
            ]
          },
          "metadata": {},
          "output_type": "display_data"
        }
      ],
      "source": [
        "# Menggabungkan dataset products dengan dataset items\n",
        "items_product = data['items'].merge(data['products'], on='product_id', how='inner')\n",
        "# Menggabungkan dataset orders dengan dataset yang telah digabungkan sebelumnya (items_product)\n",
        "orders_ip = data['orders'].merge(items_product, on='order_id', how='inner')\n",
        "\n",
        "# Menghitung total penjualan dan probabilitas penjualan untuk setiap produk\n",
        "product_revenue = orders_ip.groupby('product_id').agg({'order_item_id': 'sum', 'price': 'mean'})\n",
        "product_revenue['total_revenue'] = product_revenue['order_item_id'] * product_revenue['price']\n",
        "product_revenue['sell_probability'] = product_revenue['order_item_id'] / len(product_revenue)\n",
        "\n",
        "# Mengurutkan produk berdasarkan total pendapatan\n",
        "product_revenue = product_revenue.sort_values(by='total_revenue', ascending=False)\n",
        "\n",
        "# Mengambil nama produk dari dataset products\n",
        "product_names = data['products'][['product_id', 'product_category_name']].set_index('product_id')\n",
        "\n",
        "# Menggabungkan nama produk dengan dataset product_revenue\n",
        "product_revenue = product_revenue.join(product_names, how='left')\n",
        "\n",
        "# Visualisasi 15 produk teratas berdasarkan total pendapatan\n",
        "top_products = product_revenue.head(15)\n",
        "\n",
        "plt.figure(figsize=(12, 8))\n",
        "plt.barh(top_products['product_category_name'], top_products['total_revenue'], color='skyblue')\n",
        "plt.xlabel('Total Revenue (R$)', fontsize=14)\n",
        "plt.ylabel('Product Category', fontsize=14)\n",
        "plt.title('Top 10 Products by Total Revenue', fontsize=16)\n",
        "plt.gca().invert_yaxis()  # Membalikkan urutan kategori agar yang teratas berada di bagian atas\n",
        "plt.show()\n"
      ]
    },
    {
      "cell_type": "markdown",
      "metadata": {
        "id": "B2jquhS0gqWw"
      },
      "source": [
        "## Conclusion"
      ]
    },
    {
      "cell_type": "markdown",
      "metadata": {
        "id": "95dabORfg13Z"
      },
      "source": [
        "- Barang yang banyak terjual adalah beleza_saude atau health_beauty\n",
        "- Barang yang banyak mendatangkan keuntungan paling besar adalah barang dengan harga menengah yang memiliki banyak peminat"
      ]
    }
  ],
  "metadata": {
    "accelerator": "GPU",
    "colab": {
      "authorship_tag": "ABX9TyOtNDm58M9gUssLYGYS8kR4",
      "gpuType": "T4",
      "include_colab_link": true,
      "mount_file_id": "1cu2FBC3xDFH9tOVKdw98OdSaxcLEQwBP",
      "provenance": []
    },
    "kernelspec": {
      "display_name": "Python 3",
      "name": "python3"
    },
    "language_info": {
      "codemirror_mode": {
        "name": "ipython",
        "version": 3
      },
      "file_extension": ".py",
      "mimetype": "text/x-python",
      "name": "python",
      "nbconvert_exporter": "python",
      "pygments_lexer": "ipython3",
      "version": "3.10.11"
    }
  },
  "nbformat": 4,
  "nbformat_minor": 0
}
